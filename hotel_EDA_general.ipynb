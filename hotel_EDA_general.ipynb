{
 "cells": [
  {
   "cell_type": "markdown",
   "metadata": {},
   "source": [
    "# Обработка данных по отелям и отзывам. Статистика по разным регионам."
   ]
  },
  {
   "cell_type": "code",
   "execution_count": 1,
   "metadata": {},
   "outputs": [],
   "source": [
    "import numpy as np\n",
    "import pandas as pd\n",
    "import seaborn as sns\n",
    "import matplotlib.pyplot as plt"
   ]
  },
  {
   "cell_type": "code",
   "execution_count": 2,
   "metadata": {},
   "outputs": [],
   "source": [
    "SPb=pd.read_csv(\"SPBhotel_stats_clean.csv\")\n",
    "Sochi=pd.read_csv(\"Sochi_hotel_stats_clean.csv\")\n",
    "Crimea=pd.read_csv(\"Crimea_hotel_stats_clean.csv\")\n",
    "UBK=pd.read_csv(\"UBK_hotels_data_cleaned.csv\")"
   ]
  },
  {
   "cell_type": "code",
   "execution_count": null,
   "metadata": {},
   "outputs": [],
   "source": []
  },
  {
   "cell_type": "code",
   "execution_count": 3,
   "metadata": {},
   "outputs": [
    {
     "data": {
      "text/html": [
       "<div>\n",
       "<style scoped>\n",
       "    .dataframe tbody tr th:only-of-type {\n",
       "        vertical-align: middle;\n",
       "    }\n",
       "\n",
       "    .dataframe tbody tr th {\n",
       "        vertical-align: top;\n",
       "    }\n",
       "\n",
       "    .dataframe thead th {\n",
       "        text-align: right;\n",
       "    }\n",
       "</style>\n",
       "<table border=\"1\" class=\"dataframe\">\n",
       "  <thead>\n",
       "    <tr style=\"text-align: right;\">\n",
       "      <th></th>\n",
       "      <th>title</th>\n",
       "      <th>area</th>\n",
       "      <th>rating</th>\n",
       "      <th>n_reviews</th>\n",
       "      <th>reference</th>\n",
       "    </tr>\n",
       "  </thead>\n",
       "  <tbody>\n",
       "    <tr>\n",
       "      <th>0</th>\n",
       "      <td>AZIMUT Отель Санкт-Петербург 4*</td>\n",
       "      <td>Россия, Санкт-Петербургский регион, Санкт-Пете...</td>\n",
       "      <td>3.83</td>\n",
       "      <td>200</td>\n",
       "      <td>https://tophotels.ru/hotel/al32924/reviews</td>\n",
       "    </tr>\n",
       "    <tr>\n",
       "      <th>1</th>\n",
       "      <td>Лиготель (Ligotel) 3*</td>\n",
       "      <td>Россия, Санкт-Петербургский регион, Санкт-Пете...</td>\n",
       "      <td>4.80</td>\n",
       "      <td>88</td>\n",
       "      <td>https://tophotels.ru/hotel/al45581/reviews</td>\n",
       "    </tr>\n",
       "    <tr>\n",
       "      <th>2</th>\n",
       "      <td>Династия 3*</td>\n",
       "      <td>Россия, Санкт-Петербургский регион, Санкт-Пете...</td>\n",
       "      <td>4.77</td>\n",
       "      <td>93</td>\n",
       "      <td>https://tophotels.ru/hotel/al29669/reviews</td>\n",
       "    </tr>\n",
       "    <tr>\n",
       "      <th>3</th>\n",
       "      <td>Отель Санкт-Петербург (Saint-Petersburg) 4*</td>\n",
       "      <td>Россия, Санкт-Петербургский регион, Санкт-Пете...</td>\n",
       "      <td>3.82</td>\n",
       "      <td>107</td>\n",
       "      <td>https://tophotels.ru/hotel/al35920/reviews</td>\n",
       "    </tr>\n",
       "    <tr>\n",
       "      <th>4</th>\n",
       "      <td>Алфавит 3*</td>\n",
       "      <td>Россия, Санкт-Петербургский регион, Санкт-Пете...</td>\n",
       "      <td>4.47</td>\n",
       "      <td>61</td>\n",
       "      <td>https://tophotels.ru/hotel/al116799/reviews</td>\n",
       "    </tr>\n",
       "  </tbody>\n",
       "</table>\n",
       "</div>"
      ],
      "text/plain": [
       "                                         title  \\\n",
       "0              AZIMUT Отель Санкт-Петербург 4*   \n",
       "1                        Лиготель (Ligotel) 3*   \n",
       "2                                  Династия 3*   \n",
       "3  Отель Санкт-Петербург (Saint-Petersburg) 4*   \n",
       "4                                   Алфавит 3*   \n",
       "\n",
       "                                                area  rating  n_reviews  \\\n",
       "0  Россия, Санкт-Петербургский регион, Санкт-Пете...    3.83        200   \n",
       "1  Россия, Санкт-Петербургский регион, Санкт-Пете...    4.80         88   \n",
       "2  Россия, Санкт-Петербургский регион, Санкт-Пете...    4.77         93   \n",
       "3  Россия, Санкт-Петербургский регион, Санкт-Пете...    3.82        107   \n",
       "4  Россия, Санкт-Петербургский регион, Санкт-Пете...    4.47         61   \n",
       "\n",
       "                                     reference  \n",
       "0   https://tophotels.ru/hotel/al32924/reviews  \n",
       "1   https://tophotels.ru/hotel/al45581/reviews  \n",
       "2   https://tophotels.ru/hotel/al29669/reviews  \n",
       "3   https://tophotels.ru/hotel/al35920/reviews  \n",
       "4  https://tophotels.ru/hotel/al116799/reviews  "
      ]
     },
     "execution_count": 3,
     "metadata": {},
     "output_type": "execute_result"
    }
   ],
   "source": [
    "SPb.head()"
   ]
  },
  {
   "cell_type": "code",
   "execution_count": 4,
   "metadata": {},
   "outputs": [
    {
     "data": {
      "text/plain": [
       "Россия, Крым, Алушта                                  97\n",
       "Россия, Крым, Ялта                                    45\n",
       "Россия, Крым, Ялта, Ялта-центр                        37\n",
       "Россия, Крым, Алупка                                  29\n",
       "Россия, Крым, Алушта, Профессорский Рабочий уголок    27\n",
       "Россия, Крым, Алушта, Утес                            22\n",
       "Россия, Крым, Алушта, Алушта-центр                    12\n",
       "Россия, Крым, Алушта, Малореченское                   12\n",
       "Россия, Крым, Ялта, Ливадия                           11\n",
       "Россия, Крым, Ялта, Отрадное                           7\n",
       "Россия, Крым, Алушта, Солнечногорское                  6\n",
       "Россия, Крым, Алушта, Семидворье                       5\n",
       "Россия, Крым, Ялта, Понизовка                          3\n",
       "Россия, Крым, Ялта, Никита                             2\n",
       "Россия, Крым, Алушта, Партенит                         1\n",
       "Россия, Крым, Ялта, Парковое                           1\n",
       "Россия, Крым, Алушта, Сатера                           1\n",
       "Россия, Крым, Ялта, Ореанда                            1\n",
       "Россия, Крым, Алушта, Зеленогорье                      1\n",
       "Россия, Крым, Ялта, Даниловка поселок                  1\n",
       "Россия, Крым, Ялта, Курпаты                            1\n",
       "Name: area, dtype: int64"
      ]
     },
     "execution_count": 4,
     "metadata": {},
     "output_type": "execute_result"
    }
   ],
   "source": [
    "UBK.area.value_counts()"
   ]
  },
  {
   "cell_type": "code",
   "execution_count": 5,
   "metadata": {},
   "outputs": [],
   "source": [
    "def simple_stats(titles, data_list):\n",
    "    stats=pd.DataFrame(index=titles, columns=[\"N_hotels\",\"N_reviews\", \"area_counts\",\"average_rating\"])\n",
    "    data=pd.Series(data=data_list,index=titles)\n",
    "    stats[\"N_hotels\"]=data.apply(lambda x: len(x))\n",
    "    stats[\"N_reviews\"]=data.apply(lambda x: x.n_reviews.sum())\n",
    "    stats[\"area_counts\"]=data.apply(lambda x: x.area.nunique())\n",
    "    stats[\"average_rating\"]=data.apply(lambda x: x.rating.mean())\n",
    "    return stats\n",
    "#stats[\"N_hotels\"]=[len(SPb), len(Sochi), len(Crimea), len(UBK)]\n",
    "#stats[\"N_reviews\"]=[SPb.n_reviews.sum(), Sochi.n_reviews.sum(), Crimea.n_reviews.sum(), UBK.n_reviews.sum()]\n",
    "#stats[\"area_counts\"]=[SPb.area.nunique(),Sochi.area.nunique(),Crimea.area.nunique(),UBK.area.nunique()]\n",
    "#stats[\"average_rating\"]=[SPb.rating.mean(),Sochi.rating.mean(),Crimea.rating.mean(),UBK.rating.mean()]\n",
    "#stats"
   ]
  },
  {
   "cell_type": "code",
   "execution_count": 6,
   "metadata": {},
   "outputs": [],
   "source": [
    "titles=[\"SPb\", \"Sochi\", \"Crimea\", \"UBK\"]\n",
    "data_list=[SPb, Sochi, Crimea, UBK]"
   ]
  },
  {
   "cell_type": "markdown",
   "metadata": {},
   "source": [
    "# Сначала - статистика по отелям\n",
    "\n",
    "### (не по отзывам!)"
   ]
  },
  {
   "cell_type": "markdown",
   "metadata": {},
   "source": [
    "## Общая статистика"
   ]
  },
  {
   "cell_type": "code",
   "execution_count": 7,
   "metadata": {},
   "outputs": [
    {
     "data": {
      "text/html": [
       "<div>\n",
       "<style scoped>\n",
       "    .dataframe tbody tr th:only-of-type {\n",
       "        vertical-align: middle;\n",
       "    }\n",
       "\n",
       "    .dataframe tbody tr th {\n",
       "        vertical-align: top;\n",
       "    }\n",
       "\n",
       "    .dataframe thead th {\n",
       "        text-align: right;\n",
       "    }\n",
       "</style>\n",
       "<table border=\"1\" class=\"dataframe\">\n",
       "  <thead>\n",
       "    <tr style=\"text-align: right;\">\n",
       "      <th></th>\n",
       "      <th>N_hotels</th>\n",
       "      <th>N_reviews</th>\n",
       "      <th>area_counts</th>\n",
       "      <th>average_rating</th>\n",
       "    </tr>\n",
       "  </thead>\n",
       "  <tbody>\n",
       "    <tr>\n",
       "      <th>SPb</th>\n",
       "      <td>893</td>\n",
       "      <td>6289</td>\n",
       "      <td>2</td>\n",
       "      <td>3.510739</td>\n",
       "    </tr>\n",
       "    <tr>\n",
       "      <th>Sochi</th>\n",
       "      <td>180</td>\n",
       "      <td>3389</td>\n",
       "      <td>5</td>\n",
       "      <td>3.457167</td>\n",
       "    </tr>\n",
       "    <tr>\n",
       "      <th>Crimea</th>\n",
       "      <td>1239</td>\n",
       "      <td>14650</td>\n",
       "      <td>102</td>\n",
       "      <td>3.420387</td>\n",
       "    </tr>\n",
       "    <tr>\n",
       "      <th>UBK</th>\n",
       "      <td>322</td>\n",
       "      <td>4252</td>\n",
       "      <td>21</td>\n",
       "      <td>3.408540</td>\n",
       "    </tr>\n",
       "  </tbody>\n",
       "</table>\n",
       "</div>"
      ],
      "text/plain": [
       "        N_hotels  N_reviews  area_counts  average_rating\n",
       "SPb          893       6289            2        3.510739\n",
       "Sochi        180       3389            5        3.457167\n",
       "Crimea      1239      14650          102        3.420387\n",
       "UBK          322       4252           21        3.408540"
      ]
     },
     "execution_count": 7,
     "metadata": {},
     "output_type": "execute_result"
    }
   ],
   "source": [
    "stats=simple_stats(titles, data_list)\n",
    "stats"
   ]
  },
  {
   "cell_type": "markdown",
   "metadata": {},
   "source": [
    "## Исключим отели с нулевым (непроставленным) рейтингом...\n",
    "### (Дело в том, что политика сайта предполагает, что для приобретения рейтинга на отель должно появиться не менее некоторого количества отзывов (кажется, трех). Поэтому в выборке есть отели, на которые есть отзывы, но у которых нет рейтинга)"
   ]
  },
  {
   "cell_type": "code",
   "execution_count": 8,
   "metadata": {},
   "outputs": [],
   "source": [
    "def zero_nonzero(df):\n",
    "    return df.loc[df.rating==0,:],df.loc[df.rating!=0,:]\n",
    "\n",
    "SPb_zero, SPb_nonzero=zero_nonzero(SPb)\n",
    "Sochi_zero, Sochi_nonzero=zero_nonzero(Sochi)\n",
    "Crimea_zero, Crimea_nonzero=zero_nonzero(Crimea)\n",
    "UBK_zero, UBK_nonzero=zero_nonzero(UBK)"
   ]
  },
  {
   "cell_type": "code",
   "execution_count": 9,
   "metadata": {},
   "outputs": [],
   "source": [
    "nonzero_list=[SPb_nonzero, Sochi_nonzero, Crimea_nonzero, UBK_nonzero]"
   ]
  },
  {
   "cell_type": "markdown",
   "metadata": {},
   "source": [
    "## Для отелей с ненулевым рейтингом"
   ]
  },
  {
   "cell_type": "code",
   "execution_count": 10,
   "metadata": {},
   "outputs": [
    {
     "data": {
      "text/html": [
       "<div>\n",
       "<style scoped>\n",
       "    .dataframe tbody tr th:only-of-type {\n",
       "        vertical-align: middle;\n",
       "    }\n",
       "\n",
       "    .dataframe tbody tr th {\n",
       "        vertical-align: top;\n",
       "    }\n",
       "\n",
       "    .dataframe thead th {\n",
       "        text-align: right;\n",
       "    }\n",
       "</style>\n",
       "<table border=\"1\" class=\"dataframe\">\n",
       "  <thead>\n",
       "    <tr style=\"text-align: right;\">\n",
       "      <th></th>\n",
       "      <th>N_hotels</th>\n",
       "      <th>N_reviews</th>\n",
       "      <th>area_counts</th>\n",
       "      <th>average_rating</th>\n",
       "    </tr>\n",
       "  </thead>\n",
       "  <tbody>\n",
       "    <tr>\n",
       "      <th>SPb</th>\n",
       "      <td>745</td>\n",
       "      <td>6081</td>\n",
       "      <td>2</td>\n",
       "      <td>4.208174</td>\n",
       "    </tr>\n",
       "    <tr>\n",
       "      <th>Sochi</th>\n",
       "      <td>155</td>\n",
       "      <td>3357</td>\n",
       "      <td>4</td>\n",
       "      <td>4.014774</td>\n",
       "    </tr>\n",
       "    <tr>\n",
       "      <th>Crimea</th>\n",
       "      <td>1051</td>\n",
       "      <td>14387</td>\n",
       "      <td>98</td>\n",
       "      <td>4.032217</td>\n",
       "    </tr>\n",
       "    <tr>\n",
       "      <th>UBK</th>\n",
       "      <td>275</td>\n",
       "      <td>4191</td>\n",
       "      <td>21</td>\n",
       "      <td>3.991091</td>\n",
       "    </tr>\n",
       "  </tbody>\n",
       "</table>\n",
       "</div>"
      ],
      "text/plain": [
       "        N_hotels  N_reviews  area_counts  average_rating\n",
       "SPb          745       6081            2        4.208174\n",
       "Sochi        155       3357            4        4.014774\n",
       "Crimea      1051      14387           98        4.032217\n",
       "UBK          275       4191           21        3.991091"
      ]
     },
     "execution_count": 10,
     "metadata": {},
     "output_type": "execute_result"
    }
   ],
   "source": [
    "stats=simple_stats(titles, nonzero_list)\n",
    "stats"
   ]
  },
  {
   "cell_type": "markdown",
   "metadata": {},
   "source": [
    "## Уже интересно..."
   ]
  },
  {
   "cell_type": "markdown",
   "metadata": {},
   "source": [
    "### Можно сделать первый вывод:\n",
    "### - на севере гостиницы в среднем получше, чем на юге, а люди пишут поменьше"
   ]
  },
  {
   "cell_type": "code",
   "execution_count": 11,
   "metadata": {},
   "outputs": [],
   "source": [
    "def compare_stats(col_name='rating', titles=titles, data_list=data_list,nbins=20):\n",
    "    fig, ax=plt.subplots(figsize=(16,12),nrows=2, ncols=2)\n",
    "    plt.subplots_adjust(hspace = 0.5)\n",
    "    sns.set(font_scale=1.5)\n",
    "    for i in range(1,len(titles)+1):\n",
    "        plt.subplot(2,2,i)\n",
    "        plt.title(titles[i-1])\n",
    "        sns.distplot(data_list[i-1][col_name], bins=nbins, kde=False, norm_hist=False)"
   ]
  },
  {
   "cell_type": "markdown",
   "metadata": {},
   "source": [
    "## Распределение рейтингов отелей в разных регионах"
   ]
  },
  {
   "cell_type": "code",
   "execution_count": 12,
   "metadata": {},
   "outputs": [
    {
     "data": {
      "image/png": "[encoded data removed]",
      "text/plain": [
       "<Figure size 1152x864 with 4 Axes>"
      ]
     },
     "metadata": {
      "needs_background": "light"
     },
     "output_type": "display_data"
    }
   ],
   "source": [
    "compare_stats(col_name='rating', titles=titles, data_list=nonzero_list)"
   ]
  },
  {
   "cell_type": "markdown",
   "metadata": {},
   "source": [
    "### Распределение в Сочи немного отличается. Возможно, из-за того, что выборка меньше"
   ]
  },
  {
   "cell_type": "markdown",
   "metadata": {},
   "source": [
    "## Распределение количества отзывов, даваемых на один отель"
   ]
  },
  {
   "cell_type": "code",
   "execution_count": 13,
   "metadata": {},
   "outputs": [
    {
     "data": {
      "text/html": [
       "<div>\n",
       "<style scoped>\n",
       "    .dataframe tbody tr th:only-of-type {\n",
       "        vertical-align: middle;\n",
       "    }\n",
       "\n",
       "    .dataframe tbody tr th {\n",
       "        vertical-align: top;\n",
       "    }\n",
       "\n",
       "    .dataframe thead th {\n",
       "        text-align: right;\n",
       "    }\n",
       "</style>\n",
       "<table border=\"1\" class=\"dataframe\">\n",
       "  <thead>\n",
       "    <tr style=\"text-align: right;\">\n",
       "      <th></th>\n",
       "      <th>SPb</th>\n",
       "      <th>Sochi</th>\n",
       "      <th>Crimea</th>\n",
       "      <th>UBK</th>\n",
       "    </tr>\n",
       "  </thead>\n",
       "  <tbody>\n",
       "    <tr>\n",
       "      <th>count</th>\n",
       "      <td>893.000000</td>\n",
       "      <td>180.000000</td>\n",
       "      <td>893.000000</td>\n",
       "      <td>322.000000</td>\n",
       "    </tr>\n",
       "    <tr>\n",
       "      <th>mean</th>\n",
       "      <td>7.042553</td>\n",
       "      <td>18.827778</td>\n",
       "      <td>15.702128</td>\n",
       "      <td>13.204969</td>\n",
       "    </tr>\n",
       "    <tr>\n",
       "      <th>std</th>\n",
       "      <td>13.274119</td>\n",
       "      <td>46.773892</td>\n",
       "      <td>43.484660</td>\n",
       "      <td>29.293470</td>\n",
       "    </tr>\n",
       "    <tr>\n",
       "      <th>min</th>\n",
       "      <td>1.000000</td>\n",
       "      <td>1.000000</td>\n",
       "      <td>1.000000</td>\n",
       "      <td>1.000000</td>\n",
       "    </tr>\n",
       "    <tr>\n",
       "      <th>25%</th>\n",
       "      <td>1.000000</td>\n",
       "      <td>2.000000</td>\n",
       "      <td>2.000000</td>\n",
       "      <td>2.000000</td>\n",
       "    </tr>\n",
       "    <tr>\n",
       "      <th>50%</th>\n",
       "      <td>2.000000</td>\n",
       "      <td>4.000000</td>\n",
       "      <td>5.000000</td>\n",
       "      <td>4.000000</td>\n",
       "    </tr>\n",
       "    <tr>\n",
       "      <th>75%</th>\n",
       "      <td>7.000000</td>\n",
       "      <td>18.000000</td>\n",
       "      <td>14.000000</td>\n",
       "      <td>11.750000</td>\n",
       "    </tr>\n",
       "    <tr>\n",
       "      <th>90%</th>\n",
       "      <td>18.000000</td>\n",
       "      <td>45.100000</td>\n",
       "      <td>32.800000</td>\n",
       "      <td>30.900000</td>\n",
       "    </tr>\n",
       "    <tr>\n",
       "      <th>99%</th>\n",
       "      <td>61.960000</td>\n",
       "      <td>196.190000</td>\n",
       "      <td>199.960000</td>\n",
       "      <td>165.340000</td>\n",
       "    </tr>\n",
       "    <tr>\n",
       "      <th>max</th>\n",
       "      <td>200.000000</td>\n",
       "      <td>458.000000</td>\n",
       "      <td>756.000000</td>\n",
       "      <td>260.000000</td>\n",
       "    </tr>\n",
       "  </tbody>\n",
       "</table>\n",
       "</div>"
      ],
      "text/plain": [
       "              SPb       Sochi      Crimea         UBK\n",
       "count  893.000000  180.000000  893.000000  322.000000\n",
       "mean     7.042553   18.827778   15.702128   13.204969\n",
       "std     13.274119   46.773892   43.484660   29.293470\n",
       "min      1.000000    1.000000    1.000000    1.000000\n",
       "25%      1.000000    2.000000    2.000000    2.000000\n",
       "50%      2.000000    4.000000    5.000000    4.000000\n",
       "75%      7.000000   18.000000   14.000000   11.750000\n",
       "90%     18.000000   45.100000   32.800000   30.900000\n",
       "99%     61.960000  196.190000  199.960000  165.340000\n",
       "max    200.000000  458.000000  756.000000  260.000000"
      ]
     },
     "execution_count": 13,
     "metadata": {},
     "output_type": "execute_result"
    }
   ],
   "source": [
    "reviews=pd.DataFrame(columns=[\"SPb\", \"Sochi\", \"Crimea\", \"UBK\"])\n",
    "reviews[\"SPb\"]=SPb[\"n_reviews\"]\n",
    "reviews[\"Sochi\"]=Sochi[\"n_reviews\"]\n",
    "reviews[\"Crimea\"]=Crimea[\"n_reviews\"]\n",
    "reviews[\"UBK\"]=UBK[\"n_reviews\"]\n",
    "reviews.describe(percentiles=[0.25,0.5,0.75,0.9,0.99])"
   ]
  },
  {
   "cell_type": "markdown",
   "metadata": {},
   "source": [
    "### на ЮБК были обрезаны два отеля с 756 и 500 с чем-то отзывов, которые присутствуют в выборке в Крыму, поэтому в Крыму последние цифры выше"
   ]
  },
  {
   "cell_type": "markdown",
   "metadata": {},
   "source": [
    "### подтверждается вывод о том, что на юге среднее количество отзывов на гостиницу больше, чем на севере..."
   ]
  },
  {
   "cell_type": "markdown",
   "metadata": {},
   "source": [
    "### В целом, выборка отелей \"Алушта, Ялта, Алупка\" (ЮБК) из всей Крымской выборки достаточно показательна, и ее корректно сравнивать с Питером и Сочи"
   ]
  },
  {
   "cell_type": "markdown",
   "metadata": {},
   "source": [
    "# Распределение количества отзывов по рейтингам отелей"
   ]
  },
  {
   "cell_type": "code",
   "execution_count": 14,
   "metadata": {},
   "outputs": [],
   "source": [
    "def conv_rate(x):\n",
    "    if x>4.5:\n",
    "        return 4.5\n",
    "    if x>4.0:\n",
    "        return 4.0\n",
    "    if x>3.5:\n",
    "        return 3.5\n",
    "    if x>3.0:\n",
    "        return 3.0\n",
    "    if x>2.5:\n",
    "        return 2.5\n",
    "    if x>2.0:\n",
    "        return 2.0\n",
    "    if x>1.5:\n",
    "        return 1.5\n",
    "    if x>=1.0:\n",
    "        return 1.0\n",
    "    return 0\n",
    "nreviews_dist=[]\n",
    "for data in data_list:\n",
    "    a=data.loc[:,[\"rating\",\"n_reviews\"]]\n",
    "    a[\"rating\"]=a.rating.apply(lambda x: conv_rate(x))\n",
    "    a=a.groupby(by=\"rating\").sum()\n",
    "    nreviews_dist.append(a)"
   ]
  },
  {
   "cell_type": "code",
   "execution_count": 15,
   "metadata": {},
   "outputs": [],
   "source": [
    "def compare_stats_new(titles=titles, colors=['blue','red','magenta','green'], data_list=data_list):\n",
    "    fig, ax=plt.subplots(figsize=(16,12),nrows=2, ncols=2)\n",
    "    plt.subplots_adjust(hspace = 0.5)\n",
    "    #sns.set(font_scale=1.5)\n",
    "    for i in range(1,len(titles)+1):\n",
    "        axi=plt.subplot(2,2,i)\n",
    "        #plt.title(titles[i-1])\n",
    "        data_list[i-1].plot(kind='bar', color=colors[i-1], title=titles[i-1], ax=axi)"
   ]
  },
  {
   "cell_type": "markdown",
   "metadata": {},
   "source": [
    "# Количество отзывов для каждой из оценок"
   ]
  },
  {
   "cell_type": "code",
   "execution_count": 16,
   "metadata": {},
   "outputs": [
    {
     "data": {
      "image/png": "[encoded data removed]",
      "text/plain": [
       "<Figure size 1152x864 with 4 Axes>"
      ]
     },
     "metadata": {},
     "output_type": "display_data"
    }
   ],
   "source": [
    "compare_stats_new(data_list=nreviews_dist)"
   ]
  },
  {
   "cell_type": "markdown",
   "metadata": {},
   "source": [
    "## Предварительные выводы:\n",
    " \n",
    " - в Питере больше отелей с отзывами, но без рейтинга\n",
    " - в Сочи люди больше всего жалуются\n",
    " - на ЮБК (в отличие от остального Крыма) почему-то много положительных отзывов (по сравнению  остальными)"
   ]
  },
  {
   "cell_type": "code",
   "execution_count": null,
   "metadata": {},
   "outputs": [],
   "source": []
  },
  {
   "cell_type": "code",
   "execution_count": null,
   "metadata": {},
   "outputs": [],
   "source": []
  },
  {
   "cell_type": "markdown",
   "metadata": {},
   "source": [
    "# Теперь - статистики самих отзывов (проставленные пользователями оценки) в разных городах\n",
    "\n",
    "### (Питер, Сочи, ЮБК)"
   ]
  },
  {
   "cell_type": "code",
   "execution_count": 17,
   "metadata": {},
   "outputs": [],
   "source": [
    "SPb_reviews=pd.read_csv(\"SPb_reviews_raw.csv\")\n",
    "Sochi_reviews=pd.read_csv(\"Sochi_reviews_raw.csv\")\n",
    "UBK_reviews=pd.read_csv(\"UBK_reviews_raw_from3.csv\")"
   ]
  },
  {
   "cell_type": "code",
   "execution_count": 18,
   "metadata": {},
   "outputs": [],
   "source": [
    "#titles=[\"SPb\", \"Sochi\", \"Crimea\", \"UBK\"]\n",
    "titles=[\"SPb\", \"Sochi\", \"UBK\"]\n",
    "data_list=[SPb_reviews, Sochi_reviews, UBK_reviews]"
   ]
  },
  {
   "cell_type": "markdown",
   "metadata": {},
   "source": [
    "## Почистим статистики отзывов от отелей с нулевым (непроставленным) рейтингом"
   ]
  },
  {
   "cell_type": "code",
   "execution_count": 19,
   "metadata": {},
   "outputs": [],
   "source": [
    "def clean_zero_ratings(reviews, zero_ratings):\n",
    "    reviews.set_index(\"reference\", drop=False, inplace=True) # list a, list b\n",
    "    index_to_drop=list(set(zero_ratings.reference.to_list())&set(reviews.index.to_list())) # c=list(set(a) & set(b)) - intersection\n",
    "    reviews.drop(index_to_drop, axis=0, inplace=True)\n",
    "    reviews.reset_index(drop=True,inplace=True)"
   ]
  },
  {
   "cell_type": "code",
   "execution_count": 20,
   "metadata": {},
   "outputs": [],
   "source": [
    "clean_zero_ratings(SPb_reviews, SPb_zero)"
   ]
  },
  {
   "cell_type": "code",
   "execution_count": 21,
   "metadata": {},
   "outputs": [],
   "source": [
    "clean_zero_ratings(Sochi_reviews, Sochi_zero)"
   ]
  },
  {
   "cell_type": "code",
   "execution_count": 22,
   "metadata": {},
   "outputs": [],
   "source": [
    "clean_zero_ratings(UBK_reviews, UBK_zero)"
   ]
  },
  {
   "cell_type": "code",
   "execution_count": 23,
   "metadata": {},
   "outputs": [
    {
     "data": {
      "text/html": [
       "<div>\n",
       "<style scoped>\n",
       "    .dataframe tbody tr th:only-of-type {\n",
       "        vertical-align: middle;\n",
       "    }\n",
       "\n",
       "    .dataframe tbody tr th {\n",
       "        vertical-align: top;\n",
       "    }\n",
       "\n",
       "    .dataframe thead th {\n",
       "        text-align: right;\n",
       "    }\n",
       "</style>\n",
       "<table border=\"1\" class=\"dataframe\">\n",
       "  <thead>\n",
       "    <tr style=\"text-align: right;\">\n",
       "      <th></th>\n",
       "      <th>reference</th>\n",
       "      <th>user</th>\n",
       "      <th>mark</th>\n",
       "      <th>date</th>\n",
       "      <th>time_delta</th>\n",
       "      <th>text</th>\n",
       "    </tr>\n",
       "  </thead>\n",
       "  <tbody>\n",
       "    <tr>\n",
       "      <th>0</th>\n",
       "      <td>https://tophotels.ru/hotel/al19743/reviews</td>\n",
       "      <td>1828746</td>\n",
       "      <td>5.0</td>\n",
       "      <td>22:26\\r\\n                        24.07.20</td>\n",
       "      <td>Отзыв был добавлен через 14 дней после посещения</td>\n",
       "      <td>Друзья часто спрашивают, чего вы в Крым зачаст...</td>\n",
       "    </tr>\n",
       "    <tr>\n",
       "      <th>1</th>\n",
       "      <td>https://tophotels.ru/hotel/al19743/reviews</td>\n",
       "      <td>2014547</td>\n",
       "      <td>3.3</td>\n",
       "      <td>17:55\\r\\n                        20.07.20</td>\n",
       "      <td>Отзыв добавлен из отеля</td>\n",
       "      <td>У отеля отличная концепция, всегда мечтала не ...</td>\n",
       "    </tr>\n",
       "    <tr>\n",
       "      <th>2</th>\n",
       "      <td>https://tophotels.ru/hotel/al19743/reviews</td>\n",
       "      <td>2006971</td>\n",
       "      <td>5.0</td>\n",
       "      <td>14:14\\r\\n                        24.03.20</td>\n",
       "      <td>Отзыв добавлен из отеля</td>\n",
       "      <td>Мы в этом отеле оказались случайно. Должны был...</td>\n",
       "    </tr>\n",
       "    <tr>\n",
       "      <th>3</th>\n",
       "      <td>https://tophotels.ru/hotel/al19743/reviews</td>\n",
       "      <td>2006808</td>\n",
       "      <td>5.0</td>\n",
       "      <td>12:41\\r\\n                        22.03.20</td>\n",
       "      <td>Отзыв был добавлен во время посещения</td>\n",
       "      <td>Понравилось все! Начиная от менеджера Яны с от...</td>\n",
       "    </tr>\n",
       "    <tr>\n",
       "      <th>4</th>\n",
       "      <td>https://tophotels.ru/hotel/al19743/reviews</td>\n",
       "      <td>2003324</td>\n",
       "      <td>5.0</td>\n",
       "      <td>11:56\\r\\n                        03.03.20</td>\n",
       "      <td>Отзыв был добавлен во время посещения</td>\n",
       "      <td>С самого заезда нас окружали заботой все сотру...</td>\n",
       "    </tr>\n",
       "  </tbody>\n",
       "</table>\n",
       "</div>"
      ],
      "text/plain": [
       "                                    reference     user  mark  \\\n",
       "0  https://tophotels.ru/hotel/al19743/reviews  1828746   5.0   \n",
       "1  https://tophotels.ru/hotel/al19743/reviews  2014547   3.3   \n",
       "2  https://tophotels.ru/hotel/al19743/reviews  2006971   5.0   \n",
       "3  https://tophotels.ru/hotel/al19743/reviews  2006808   5.0   \n",
       "4  https://tophotels.ru/hotel/al19743/reviews  2003324   5.0   \n",
       "\n",
       "                                        date  \\\n",
       "0  22:26\\r\\n                        24.07.20   \n",
       "1  17:55\\r\\n                        20.07.20   \n",
       "2  14:14\\r\\n                        24.03.20   \n",
       "3  12:41\\r\\n                        22.03.20   \n",
       "4  11:56\\r\\n                        03.03.20   \n",
       "\n",
       "                                         time_delta  \\\n",
       "0  Отзыв был добавлен через 14 дней после посещения   \n",
       "1                           Отзыв добавлен из отеля   \n",
       "2                           Отзыв добавлен из отеля   \n",
       "3             Отзыв был добавлен во время посещения   \n",
       "4             Отзыв был добавлен во время посещения   \n",
       "\n",
       "                                                text  \n",
       "0  Друзья часто спрашивают, чего вы в Крым зачаст...  \n",
       "1  У отеля отличная концепция, всегда мечтала не ...  \n",
       "2  Мы в этом отеле оказались случайно. Должны был...  \n",
       "3  Понравилось все! Начиная от менеджера Яны с от...  \n",
       "4  С самого заезда нас окружали заботой все сотру...  "
      ]
     },
     "execution_count": 23,
     "metadata": {},
     "output_type": "execute_result"
    }
   ],
   "source": [
    "UBK_reviews.head()"
   ]
  },
  {
   "cell_type": "markdown",
   "metadata": {},
   "source": [
    "## EDA"
   ]
  },
  {
   "cell_type": "code",
   "execution_count": 24,
   "metadata": {},
   "outputs": [],
   "source": [
    "#data_list=[SPb, Sochi, UBK]\n",
    "#titles=[\"SPb\", \"Sochi\", \"UBK\"]"
   ]
  },
  {
   "cell_type": "code",
   "execution_count": 25,
   "metadata": {},
   "outputs": [],
   "source": [
    "for df in data_list:\n",
    "    df.dropna(axis=0,subset=['text'],inplace=True)"
   ]
  },
  {
   "cell_type": "code",
   "execution_count": 26,
   "metadata": {},
   "outputs": [
    {
     "name": "stdout",
     "output_type": "stream",
     "text": [
      "reference     0\n",
      "user          0\n",
      "mark          0\n",
      "date          0\n",
      "time_delta    0\n",
      "text          0\n",
      "dtype: int64\n",
      "reference     0\n",
      "user          0\n",
      "mark          0\n",
      "date          0\n",
      "time_delta    0\n",
      "text          0\n",
      "dtype: int64\n",
      "reference     0\n",
      "user          0\n",
      "mark          0\n",
      "date          0\n",
      "time_delta    0\n",
      "text          0\n",
      "dtype: int64\n"
     ]
    }
   ],
   "source": [
    "for df in data_list:\n",
    "    print(df.isna().sum())"
   ]
  },
  {
   "cell_type": "markdown",
   "metadata": {},
   "source": [
    "### Превратим time_delta в осмысленный признак - примерное количество дней между временем посещения объекта и написанием отзыва"
   ]
  },
  {
   "cell_type": "code",
   "execution_count": 27,
   "metadata": {},
   "outputs": [],
   "source": [
    "for df in data_list:\n",
    "    df[\"date\"]=df.date.apply(lambda x: x[-8:])\n",
    "    df[\"conv_date\"]=pd.to_datetime(df.date)"
   ]
  },
  {
   "cell_type": "code",
   "execution_count": 28,
   "metadata": {},
   "outputs": [],
   "source": [
    "for data in data_list:\n",
    "    data[\"time_delta\"]=data[\"time_delta\"].apply(lambda x: x.replace(\"Отзыв был добавлен через \",\"\"))\n",
    "    data[\"time_delta\"]=data[\"time_delta\"].apply(lambda x: x.replace(\" дней после посещения\",\"\"))\n",
    "    data[\"time_delta\"]=data[\"time_delta\"].apply(lambda x: x.replace(\" дня после посещения\",\"\"))\n",
    "    data[\"time_delta\"]=data[\"time_delta\"].apply(lambda x: x.replace(\"Отзыв был добавлен во время посещения\",\"0\"))\n",
    "    data[\"time_delta\"]=data[\"time_delta\"].apply(lambda x: x.replace(\"Отзыв добавлен из отеля\",\"0\"))\n",
    "    data[\"time_delta\"]=data[\"time_delta\"].apply(lambda x: x.replace(\"1 день после посещения\",\"1\"))\n",
    "    #data[\"time_delta\"]=data[\"time_delta\"].apply(lambda x: '32' if \"месяц\" in x else x)\n",
    "    data[\"time_delta\"]=data[\"time_delta\"].apply(lambda x: '365' if \"год\" in x else x)\n",
    "    data[\"time_delta\"]=data[\"time_delta\"].apply(lambda x: '365' if \"лет\" in x else x)"
   ]
  },
  {
   "cell_type": "code",
   "execution_count": 29,
   "metadata": {},
   "outputs": [],
   "source": [
    "def fit_delta(x):\n",
    "    if \"месяц\" in x:\n",
    "        p=x.find(\"месяц\")\n",
    "        y=x[0:p]\n",
    "        y.strip()\n",
    "        if len(y)>0:\n",
    "            z=int(y)\n",
    "            z*=30\n",
    "            return str(z)\n",
    "    return x"
   ]
  },
  {
   "cell_type": "code",
   "execution_count": 30,
   "metadata": {},
   "outputs": [],
   "source": [
    "for data in data_list:\n",
    "    data[\"time_delta\"]=data[\"time_delta\"].apply(lambda x: fit_delta(x))\n",
    "    data[\"time_delta\"]=data[\"time_delta\"].astype('int32')"
   ]
  },
  {
   "cell_type": "code",
   "execution_count": 34,
   "metadata": {},
   "outputs": [
    {
     "data": {
      "image/png": "[encoded data removed]",
      "text/plain": [
       "<Figure size 1152x864 with 4 Axes>"
      ]
     },
     "metadata": {},
     "output_type": "display_data"
    }
   ],
   "source": [
    "compare_stats(col_name='time_delta',titles=titles, data_list=data_list)"
   ]
  },
  {
   "cell_type": "markdown",
   "metadata": {},
   "source": [
    "### Есть отзывы, написанные более, чем через год после посещения..."
   ]
  },
  {
   "cell_type": "code",
   "execution_count": 33,
   "metadata": {},
   "outputs": [],
   "source": [
    "SPb_reviews.user=SPb_reviews.user.astype('int64')"
   ]
  },
  {
   "cell_type": "code",
   "execution_count": 34,
   "metadata": {},
   "outputs": [],
   "source": [
    "SPb_reviews.mark=SPb_reviews.mark.astype('float64')"
   ]
  },
  {
   "cell_type": "code",
   "execution_count": 35,
   "metadata": {},
   "outputs": [],
   "source": [
    "def simple_stats_review(titles, data_list):\n",
    "    stats=pd.DataFrame(index=titles, columns=[\"N_hotels\",\"N_reviews\", \"user_counts\",\"average_tdelta\",\"average_rating\"])\n",
    "    data=pd.Series(data=data_list,index=titles)\n",
    "    stats[\"N_hotels\"]=data.apply(lambda x: x.reference.nunique())\n",
    "    stats[\"N_reviews\"]=data.apply(lambda x: len(x))\n",
    "    stats[\"user_counts\"]=data.apply(lambda x: x.user.nunique())\n",
    "    stats[\"average_tdelta\"]=data.apply(lambda x: x.time_delta.mean())\n",
    "    stats[\"average_rating\"]=data.apply(lambda x: x.mark.mean())\n",
    "    return stats"
   ]
  },
  {
   "cell_type": "code",
   "execution_count": 36,
   "metadata": {},
   "outputs": [
    {
     "data": {
      "text/html": [
       "<div>\n",
       "<style scoped>\n",
       "    .dataframe tbody tr th:only-of-type {\n",
       "        vertical-align: middle;\n",
       "    }\n",
       "\n",
       "    .dataframe tbody tr th {\n",
       "        vertical-align: top;\n",
       "    }\n",
       "\n",
       "    .dataframe thead th {\n",
       "        text-align: right;\n",
       "    }\n",
       "</style>\n",
       "<table border=\"1\" class=\"dataframe\">\n",
       "  <thead>\n",
       "    <tr style=\"text-align: right;\">\n",
       "      <th></th>\n",
       "      <th>N_hotels</th>\n",
       "      <th>N_reviews</th>\n",
       "      <th>user_counts</th>\n",
       "      <th>average_tdelta</th>\n",
       "      <th>average_rating</th>\n",
       "    </tr>\n",
       "  </thead>\n",
       "  <tbody>\n",
       "    <tr>\n",
       "      <th>SPb</th>\n",
       "      <td>745</td>\n",
       "      <td>6199</td>\n",
       "      <td>4238</td>\n",
       "      <td>76.009034</td>\n",
       "      <td>4.285611</td>\n",
       "    </tr>\n",
       "    <tr>\n",
       "      <th>Sochi</th>\n",
       "      <td>155</td>\n",
       "      <td>3311</td>\n",
       "      <td>2907</td>\n",
       "      <td>66.561764</td>\n",
       "      <td>4.080097</td>\n",
       "    </tr>\n",
       "    <tr>\n",
       "      <th>UBK</th>\n",
       "      <td>146</td>\n",
       "      <td>4574</td>\n",
       "      <td>3384</td>\n",
       "      <td>66.712943</td>\n",
       "      <td>4.317753</td>\n",
       "    </tr>\n",
       "  </tbody>\n",
       "</table>\n",
       "</div>"
      ],
      "text/plain": [
       "       N_hotels  N_reviews  user_counts  average_tdelta  average_rating\n",
       "SPb         745       6199         4238       76.009034        4.285611\n",
       "Sochi       155       3311         2907       66.561764        4.080097\n",
       "UBK         146       4574         3384       66.712943        4.317753"
      ]
     },
     "execution_count": 36,
     "metadata": {},
     "output_type": "execute_result"
    }
   ],
   "source": [
    "simple_stats_review(titles, data_list)"
   ]
  },
  {
   "cell_type": "markdown",
   "metadata": {},
   "source": [
    "### Если по Сочи и по Питеру картина рейтингов изменилась не сильно, то ЮБК вырвался вперед с примерно 4 до 4.3"
   ]
  },
  {
   "cell_type": "markdown",
   "metadata": {},
   "source": [
    "## Это согласуется с тем фактом, что на ЮБК у отелей с высоким рейтингом число отзывов в распределении больше, чем в других регионах"
   ]
  },
  {
   "cell_type": "markdown",
   "metadata": {},
   "source": [
    "### ...дописывают больше положительных отзывов?"
   ]
  },
  {
   "cell_type": "code",
   "execution_count": 37,
   "metadata": {},
   "outputs": [
    {
     "data": {
      "text/plain": [
       "6199"
      ]
     },
     "execution_count": 37,
     "metadata": {},
     "output_type": "execute_result"
    }
   ],
   "source": [
    "len(data_list[0])"
   ]
  },
  {
   "cell_type": "code",
   "execution_count": 38,
   "metadata": {},
   "outputs": [
    {
     "name": "stdout",
     "output_type": "stream",
     "text": [
      "0\n",
      "0\n",
      "0\n"
     ]
    }
   ],
   "source": [
    "for data in data_list:\n",
    "    print(len(data.loc[data.text.apply(lambda x: len(x)==0),:]))"
   ]
  },
  {
   "cell_type": "markdown",
   "metadata": {},
   "source": [
    "### (отзывы нулевой длины отсутствуют)"
   ]
  },
  {
   "cell_type": "markdown",
   "metadata": {},
   "source": [
    "## Удалим возможные дубликаты в отзывах"
   ]
  },
  {
   "cell_type": "code",
   "execution_count": 39,
   "metadata": {},
   "outputs": [
    {
     "name": "stdout",
     "output_type": "stream",
     "text": [
      "45\n",
      "8\n",
      "1361\n"
     ]
    }
   ],
   "source": [
    "duplicates=[]\n",
    "for data in data_list:\n",
    "    duplicates.append(data.loc[data.duplicated(\"text\", keep=False),:])\n",
    "    print(len(duplicates[-1]))"
   ]
  },
  {
   "cell_type": "markdown",
   "metadata": {},
   "source": [
    "### (выведено удвоенное количество дубликатов; на ЮБК - особенно много)"
   ]
  },
  {
   "cell_type": "code",
   "execution_count": 40,
   "metadata": {},
   "outputs": [
    {
     "data": {
      "text/html": [
       "<div>\n",
       "<style scoped>\n",
       "    .dataframe tbody tr th:only-of-type {\n",
       "        vertical-align: middle;\n",
       "    }\n",
       "\n",
       "    .dataframe tbody tr th {\n",
       "        vertical-align: top;\n",
       "    }\n",
       "\n",
       "    .dataframe thead th {\n",
       "        text-align: right;\n",
       "    }\n",
       "</style>\n",
       "<table border=\"1\" class=\"dataframe\">\n",
       "  <thead>\n",
       "    <tr style=\"text-align: right;\">\n",
       "      <th></th>\n",
       "      <th>reference</th>\n",
       "      <th>user</th>\n",
       "      <th>mark</th>\n",
       "      <th>date</th>\n",
       "      <th>time_delta</th>\n",
       "      <th>text</th>\n",
       "      <th>conv_date</th>\n",
       "    </tr>\n",
       "  </thead>\n",
       "  <tbody>\n",
       "    <tr>\n",
       "      <th>210</th>\n",
       "      <td>https://tophotels.ru/hotel/al45581/reviews</td>\n",
       "      <td>1931561</td>\n",
       "      <td>4.5</td>\n",
       "      <td>10.09.19</td>\n",
       "      <td>90</td>\n",
       "      <td>Выбрала этот отель из-за расположения около Мо...</td>\n",
       "      <td>2019-10-09</td>\n",
       "    </tr>\n",
       "    <tr>\n",
       "      <th>211</th>\n",
       "      <td>https://tophotels.ru/hotel/al45581/reviews</td>\n",
       "      <td>1931561</td>\n",
       "      <td>4.8</td>\n",
       "      <td>09.09.19</td>\n",
       "      <td>90</td>\n",
       "      <td>Выбрала этот отель из-за расположения около Мо...</td>\n",
       "      <td>2019-09-09</td>\n",
       "    </tr>\n",
       "    <tr>\n",
       "      <th>213</th>\n",
       "      <td>https://tophotels.ru/hotel/al45581/reviews</td>\n",
       "      <td>1886062</td>\n",
       "      <td>5.0</td>\n",
       "      <td>15.07.19</td>\n",
       "      <td>30</td>\n",
       "      <td>Был в командировке в Санкт-Петербурге. Мне нуж...</td>\n",
       "      <td>2019-07-15</td>\n",
       "    </tr>\n",
       "    <tr>\n",
       "      <th>214</th>\n",
       "      <td>https://tophotels.ru/hotel/al45581/reviews</td>\n",
       "      <td>1886062</td>\n",
       "      <td>5.0</td>\n",
       "      <td>13.07.19</td>\n",
       "      <td>30</td>\n",
       "      <td>Был в командировке в Санкт-Петербурге. Мне нуж...</td>\n",
       "      <td>2019-07-13</td>\n",
       "    </tr>\n",
       "    <tr>\n",
       "      <th>226</th>\n",
       "      <td>https://tophotels.ru/hotel/al45581/reviews</td>\n",
       "      <td>1755223</td>\n",
       "      <td>5.0</td>\n",
       "      <td>28.10.18</td>\n",
       "      <td>28</td>\n",
       "      <td>Мне отель очень понравился, соотношение цена и...</td>\n",
       "      <td>2018-10-28</td>\n",
       "    </tr>\n",
       "    <tr>\n",
       "      <th>227</th>\n",
       "      <td>https://tophotels.ru/hotel/al45581/reviews</td>\n",
       "      <td>1755223</td>\n",
       "      <td>5.0</td>\n",
       "      <td>27.10.18</td>\n",
       "      <td>27</td>\n",
       "      <td>Мне отель очень понравился, соотношение цена и...</td>\n",
       "      <td>2018-10-27</td>\n",
       "    </tr>\n",
       "    <tr>\n",
       "      <th>238</th>\n",
       "      <td>https://tophotels.ru/hotel/al45581/reviews</td>\n",
       "      <td>1452877</td>\n",
       "      <td>4.5</td>\n",
       "      <td>12.05.18</td>\n",
       "      <td>12</td>\n",
       "      <td>Приезжали на выходные в Питер, останавливались...</td>\n",
       "      <td>2018-12-05</td>\n",
       "    </tr>\n",
       "    <tr>\n",
       "      <th>239</th>\n",
       "      <td>https://tophotels.ru/hotel/al45581/reviews</td>\n",
       "      <td>1452877</td>\n",
       "      <td>5.0</td>\n",
       "      <td>11.05.18</td>\n",
       "      <td>11</td>\n",
       "      <td>Приезжали на выходные в Питер, останавливались...</td>\n",
       "      <td>2018-11-05</td>\n",
       "    </tr>\n",
       "    <tr>\n",
       "      <th>281</th>\n",
       "      <td>https://tophotels.ru/hotel/al45581/reviews</td>\n",
       "      <td>1004785</td>\n",
       "      <td>5.0</td>\n",
       "      <td>04.07.15</td>\n",
       "      <td>120</td>\n",
       "      <td>Отель находится в центре города, что для меня ...</td>\n",
       "      <td>2015-04-07</td>\n",
       "    </tr>\n",
       "    <tr>\n",
       "      <th>282</th>\n",
       "      <td>https://tophotels.ru/hotel/al45581/reviews</td>\n",
       "      <td>1004785</td>\n",
       "      <td>5.0</td>\n",
       "      <td>02.07.15</td>\n",
       "      <td>150</td>\n",
       "      <td>Отель находится в центре города, что для меня ...</td>\n",
       "      <td>2015-02-07</td>\n",
       "    </tr>\n",
       "  </tbody>\n",
       "</table>\n",
       "</div>"
      ],
      "text/plain": [
       "                                      reference     user  mark      date  \\\n",
       "210  https://tophotels.ru/hotel/al45581/reviews  1931561   4.5  10.09.19   \n",
       "211  https://tophotels.ru/hotel/al45581/reviews  1931561   4.8  09.09.19   \n",
       "213  https://tophotels.ru/hotel/al45581/reviews  1886062   5.0  15.07.19   \n",
       "214  https://tophotels.ru/hotel/al45581/reviews  1886062   5.0  13.07.19   \n",
       "226  https://tophotels.ru/hotel/al45581/reviews  1755223   5.0  28.10.18   \n",
       "227  https://tophotels.ru/hotel/al45581/reviews  1755223   5.0  27.10.18   \n",
       "238  https://tophotels.ru/hotel/al45581/reviews  1452877   4.5  12.05.18   \n",
       "239  https://tophotels.ru/hotel/al45581/reviews  1452877   5.0  11.05.18   \n",
       "281  https://tophotels.ru/hotel/al45581/reviews  1004785   5.0  04.07.15   \n",
       "282  https://tophotels.ru/hotel/al45581/reviews  1004785   5.0  02.07.15   \n",
       "\n",
       "     time_delta                                               text  conv_date  \n",
       "210          90  Выбрала этот отель из-за расположения около Мо... 2019-10-09  \n",
       "211          90  Выбрала этот отель из-за расположения около Мо... 2019-09-09  \n",
       "213          30  Был в командировке в Санкт-Петербурге. Мне нуж... 2019-07-15  \n",
       "214          30  Был в командировке в Санкт-Петербурге. Мне нуж... 2019-07-13  \n",
       "226          28  Мне отель очень понравился, соотношение цена и... 2018-10-28  \n",
       "227          27  Мне отель очень понравился, соотношение цена и... 2018-10-27  \n",
       "238          12  Приезжали на выходные в Питер, останавливались... 2018-12-05  \n",
       "239          11  Приезжали на выходные в Питер, останавливались... 2018-11-05  \n",
       "281         120  Отель находится в центре города, что для меня ... 2015-04-07  \n",
       "282         150  Отель находится в центре города, что для меня ... 2015-02-07  "
      ]
     },
     "execution_count": 40,
     "metadata": {},
     "output_type": "execute_result"
    }
   ],
   "source": [
    "duplicates[0].head(10)"
   ]
  },
  {
   "cell_type": "markdown",
   "metadata": {},
   "source": [
    "### Некоторые из задвоенных отзывов имеют даже разную дату и разную оценку, что интересно..."
   ]
  },
  {
   "cell_type": "code",
   "execution_count": 41,
   "metadata": {},
   "outputs": [],
   "source": [
    "for data in data_list:\n",
    "    data.drop_duplicates(\"text\", inplace=True)"
   ]
  },
  {
   "cell_type": "markdown",
   "metadata": {},
   "source": [
    "## Пересмотрим статистику:"
   ]
  },
  {
   "cell_type": "code",
   "execution_count": 42,
   "metadata": {},
   "outputs": [
    {
     "data": {
      "text/html": [
       "<div>\n",
       "<style scoped>\n",
       "    .dataframe tbody tr th:only-of-type {\n",
       "        vertical-align: middle;\n",
       "    }\n",
       "\n",
       "    .dataframe tbody tr th {\n",
       "        vertical-align: top;\n",
       "    }\n",
       "\n",
       "    .dataframe thead th {\n",
       "        text-align: right;\n",
       "    }\n",
       "</style>\n",
       "<table border=\"1\" class=\"dataframe\">\n",
       "  <thead>\n",
       "    <tr style=\"text-align: right;\">\n",
       "      <th></th>\n",
       "      <th>N_hotels</th>\n",
       "      <th>N_reviews</th>\n",
       "      <th>user_counts</th>\n",
       "      <th>average_tdelta</th>\n",
       "      <th>average_rating</th>\n",
       "    </tr>\n",
       "  </thead>\n",
       "  <tbody>\n",
       "    <tr>\n",
       "      <th>SPb</th>\n",
       "      <td>745</td>\n",
       "      <td>6175</td>\n",
       "      <td>4235</td>\n",
       "      <td>76.052632</td>\n",
       "      <td>4.285231</td>\n",
       "    </tr>\n",
       "    <tr>\n",
       "      <th>Sochi</th>\n",
       "      <td>155</td>\n",
       "      <td>3307</td>\n",
       "      <td>2907</td>\n",
       "      <td>66.439069</td>\n",
       "      <td>4.079891</td>\n",
       "    </tr>\n",
       "    <tr>\n",
       "      <th>UBK</th>\n",
       "      <td>146</td>\n",
       "      <td>3887</td>\n",
       "      <td>3378</td>\n",
       "      <td>66.390275</td>\n",
       "      <td>4.283869</td>\n",
       "    </tr>\n",
       "  </tbody>\n",
       "</table>\n",
       "</div>"
      ],
      "text/plain": [
       "       N_hotels  N_reviews  user_counts  average_tdelta  average_rating\n",
       "SPb         745       6175         4235       76.052632        4.285231\n",
       "Sochi       155       3307         2907       66.439069        4.079891\n",
       "UBK         146       3887         3378       66.390275        4.283869"
      ]
     },
     "execution_count": 42,
     "metadata": {},
     "output_type": "execute_result"
    }
   ],
   "source": [
    "simple_stats_review(titles, data_list)"
   ]
  },
  {
   "cell_type": "markdown",
   "metadata": {},
   "source": [
    "### Сильно не поменялась..."
   ]
  },
  {
   "cell_type": "code",
   "execution_count": 43,
   "metadata": {},
   "outputs": [],
   "source": [
    "hotel_data_list=[SPb, Sochi, UBK]"
   ]
  },
  {
   "cell_type": "code",
   "execution_count": null,
   "metadata": {},
   "outputs": [],
   "source": []
  },
  {
   "cell_type": "code",
   "execution_count": null,
   "metadata": {},
   "outputs": [],
   "source": []
  },
  {
   "cell_type": "markdown",
   "metadata": {},
   "source": [
    "\n",
    "\n",
    "\n",
    "\n",
    "**Сильно ли отличается характер распределения оценок отзывов для \n",
    "отелей с оценкой > 4.8 в С.-Пб., Крыму, и Сочи? Для отелей с 50+ отзывов \n",
    "и для отелей с количеством отзывов <50?**\n",
    "\n",
    "\n",
    "\n"
   ]
  },
  {
   "cell_type": "code",
   "execution_count": 74,
   "metadata": {},
   "outputs": [],
   "source": [
    "# Отели с оценкой > 4.5 и количеством отзывов >50\n",
    "ratings50plus=[]\n",
    "ratings50minus=[]\n",
    "for i in range(0, len(data_list)):\n",
    "#i=0\n",
    "    hd=hotel_data_list[i].loc[hotel_data_list[i].rating>=4.5,:]\n",
    "    d=data_list[i]\n",
    "    goodMarkIndex=hd.set_index(\"reference\", drop=True)\n",
    "    goodMarkIndex=goodMarkIndex.index\n",
    "    ind_50plus=d.reference.value_counts().loc[d.reference.value_counts()>=50].index\n",
    "    ind_50minus=d.reference.value_counts().loc[d.reference.value_counts()<50].index\n",
    "    ind_50plus=list(set(ind_50plus.tolist())&set(goodMarkIndex.to_list()))\n",
    "    ind_50minus=list(set(ind_50minus.tolist())&set(goodMarkIndex.to_list()))\n",
    "    \n",
    "    ratings50plus.append(d.loc[d.reference.apply(lambda x: x in ind_50plus),:])\n",
    "    ratings50minus.append(d.loc[d.reference.apply(lambda x: x in ind_50minus),:])"
   ]
  },
  {
   "cell_type": "code",
   "execution_count": 58,
   "metadata": {},
   "outputs": [],
   "source": [
    "d=data_list[i]\n",
    "ind_50plus=hd.loc[hd.n_reviews>50,:].set_index(\"reference\", drop=True).index\n",
    "ind_50minus=hd.loc[hd.n_reviews<=50,:].set_index(\"reference\", drop=True).index"
   ]
  },
  {
   "cell_type": "code",
   "execution_count": 75,
   "metadata": {},
   "outputs": [
    {
     "name": "stdout",
     "output_type": "stream",
     "text": [
      "SPb , ratings for N_reviews>50:  358 , ratings for N_reviews<=50:  2194 \n",
      "\n",
      "Sochi , ratings for N_reviews>50:  57 , ratings for N_reviews<=50:  376 \n",
      "\n",
      "UBK , ratings for N_reviews>50:  1088 , ratings for N_reviews<=50:  732 \n",
      "\n"
     ]
    }
   ],
   "source": [
    "for i in range(0,len(titles)):\n",
    "    print(titles[i],', ratings for N_reviews>50: ',len(ratings50plus[i]),', ratings for N_reviews<=50: ',len(ratings50minus[i]), '\\n')"
   ]
  },
  {
   "cell_type": "code",
   "execution_count": 89,
   "metadata": {},
   "outputs": [
    {
     "data": {
      "text/plain": [
       "(array([ 12.,   3.,   5.,   4.,   4.,  18.,  22.,  28.,  68., 568.]),\n",
       " array([1. , 1.4, 1.8, 2.2, 2.6, 3. , 3.4, 3.8, 4.2, 4.6, 5. ]),\n",
       " <a list of 10 Patch objects>)"
      ]
     },
     "execution_count": 89,
     "metadata": {},
     "output_type": "execute_result"
    },
    {
     "data": {
      "image/png": "[encoded data removed]",
      "text/plain": [
       "<Figure size 1512x864 with 6 Axes>"
      ]
     },
     "metadata": {},
     "output_type": "display_data"
    }
   ],
   "source": [
    "fig, ax=plt.subplots(figsize=(21,12), nrows=2, ncols=3)\n",
    "plt.subplots_adjust(hspace = 0.5)\n",
    "plt.subplot(2,3,1)\n",
    "plt.title(\"S.-Pb, 50+ reviews\")\n",
    "plt.hist(ratings50plus[0].mark)\n",
    "plt.subplot(2,3,2)\n",
    "plt.title(\"Sochi, 50+ reviews\")\n",
    "plt.hist(ratings50plus[1].mark)\n",
    "plt.subplot(2,3,3)\n",
    "plt.title(\"UBK, 50+ reviews\")\n",
    "plt.hist(ratings50plus[2].mark)\n",
    "plt.subplot(2,3,4)\n",
    "plt.title(\"S.-Pb, <50 reviews\")\n",
    "plt.hist(ratings50minus[0].mark)\n",
    "plt.subplot(2,3,5)\n",
    "plt.title(\"Sochi, <50 reviews\")\n",
    "plt.hist(ratings50minus[1].mark)\n",
    "plt.subplot(2,3,6)\n",
    "plt.title(\"UBK, <50 reviews\")\n",
    "plt.hist(ratings50minus[2].mark)"
   ]
  },
  {
   "cell_type": "markdown",
   "metadata": {},
   "source": [
    "## Логарифмированные распределения"
   ]
  },
  {
   "cell_type": "code",
   "execution_count": 91,
   "metadata": {},
   "outputs": [
    {
     "data": {
      "image/png": "[encoded data removed]",
      "text/plain": [
       "<Figure size 1512x864 with 6 Axes>"
      ]
     },
     "metadata": {},
     "output_type": "display_data"
    }
   ],
   "source": [
    "fig, ax=plt.subplots(figsize=(21,12), nrows=2, ncols=3)\n",
    "plt.subplots_adjust(hspace = 0.5)\n",
    "plt.subplot(2,3,1)\n",
    "plt.title(\"S.-Pb, 50+ reviews\")\n",
    "plt.hist(ratings50plus[0].mark, log=True)\n",
    "plt.subplot(2,3,2)\n",
    "plt.title(\"Sochi, 50+ reviews\")\n",
    "plt.hist(ratings50plus[1].mark, log=True)\n",
    "plt.subplot(2,3,3)\n",
    "plt.title(\"UBK, 50+ reviews\")\n",
    "plt.hist(ratings50plus[2].mark, log=True)\n",
    "plt.subplot(2,3,4)\n",
    "plt.title(\"S.-Pb, <50 reviews\")\n",
    "plt.hist(ratings50minus[0].mark, log=True)\n",
    "plt.subplot(2,3,5)\n",
    "plt.title(\"Sochi, <50 reviews\")\n",
    "plt.hist(ratings50minus[1].mark, log=True)\n",
    "plt.subplot(2,3,6)\n",
    "plt.title(\"UBK, <50 reviews\")\n",
    "plt.hist(ratings50minus[2].mark, log=True);"
   ]
  },
  {
   "cell_type": "markdown",
   "metadata": {},
   "source": [
    "### Еще раз, статистика по городам:"
   ]
  },
  {
   "cell_type": "code",
   "execution_count": 92,
   "metadata": {},
   "outputs": [
    {
     "name": "stdout",
     "output_type": "stream",
     "text": [
      "SPb , ratings for N_reviews>50:  358 , ratings for N_reviews<=50:  2194 \n",
      "\n",
      "Sochi , ratings for N_reviews>50:  57 , ratings for N_reviews<=50:  376 \n",
      "\n",
      "UBK , ratings for N_reviews>50:  1088 , ratings for N_reviews<=50:  732 \n",
      "\n"
     ]
    }
   ],
   "source": [
    "for i in range(0,len(titles)):\n",
    "    print(titles[i],', ratings for N_reviews>50: ',len(ratings50plus[i]),', ratings for N_reviews<=50: ',len(ratings50minus[i]), '\\n')"
   ]
  },
  {
   "cell_type": "markdown",
   "metadata": {},
   "source": [
    "# Вывод...?"
   ]
  },
  {
   "cell_type": "markdown",
   "metadata": {},
   "source": [
    "# Как правильно преобразовать оценки, чтоб свести регрессию к классификации"
   ]
  },
  {
   "cell_type": "code",
   "execution_count": 44,
   "metadata": {},
   "outputs": [],
   "source": [
    "newlist=[data.loc[data[\"mark\"]>2.0,:] for data in data_list]"
   ]
  },
  {
   "cell_type": "markdown",
   "metadata": {},
   "source": [
    "## Распределения оценок (теперь уже по отзывам)"
   ]
  },
  {
   "cell_type": "code",
   "execution_count": 45,
   "metadata": {},
   "outputs": [
    {
     "data": {
      "image/png": "[encoded data removed]",
      "text/plain": [
       "<Figure size 1152x864 with 4 Axes>"
      ]
     },
     "metadata": {},
     "output_type": "display_data"
    }
   ],
   "source": [
    "compare_stats(col_name='mark', titles=titles, data_list=data_list, nbins=50)"
   ]
  },
  {
   "cell_type": "markdown",
   "metadata": {},
   "source": [
    "### Распределения похожие. Посмотрев на них пристально (чуть более детально) введем следующую систему классификации оценок"
   ]
  },
  {
   "cell_type": "code",
   "execution_count": 46,
   "metadata": {},
   "outputs": [
    {
     "data": {
      "text/html": [
       "<div>\n",
       "<style scoped>\n",
       "    .dataframe tbody tr th:only-of-type {\n",
       "        vertical-align: middle;\n",
       "    }\n",
       "\n",
       "    .dataframe tbody tr th {\n",
       "        vertical-align: top;\n",
       "    }\n",
       "\n",
       "    .dataframe thead th {\n",
       "        text-align: right;\n",
       "    }\n",
       "</style>\n",
       "<table border=\"1\" class=\"dataframe\">\n",
       "  <thead>\n",
       "    <tr style=\"text-align: right;\">\n",
       "      <th></th>\n",
       "      <th>user</th>\n",
       "      <th>mark</th>\n",
       "      <th>time_delta</th>\n",
       "    </tr>\n",
       "  </thead>\n",
       "  <tbody>\n",
       "    <tr>\n",
       "      <th>count</th>\n",
       "      <td>3.887000e+03</td>\n",
       "      <td>3887.000000</td>\n",
       "      <td>3887.000000</td>\n",
       "    </tr>\n",
       "    <tr>\n",
       "      <th>mean</th>\n",
       "      <td>1.059401e+06</td>\n",
       "      <td>4.283869</td>\n",
       "      <td>66.390275</td>\n",
       "    </tr>\n",
       "    <tr>\n",
       "      <th>std</th>\n",
       "      <td>6.066467e+05</td>\n",
       "      <td>1.000710</td>\n",
       "      <td>109.686501</td>\n",
       "    </tr>\n",
       "    <tr>\n",
       "      <th>min</th>\n",
       "      <td>0.000000e+00</td>\n",
       "      <td>1.000000</td>\n",
       "      <td>0.000000</td>\n",
       "    </tr>\n",
       "    <tr>\n",
       "      <th>33%</th>\n",
       "      <td>8.161394e+05</td>\n",
       "      <td>4.300000</td>\n",
       "      <td>4.000000</td>\n",
       "    </tr>\n",
       "    <tr>\n",
       "      <th>50%</th>\n",
       "      <td>1.179244e+06</td>\n",
       "      <td>4.700000</td>\n",
       "      <td>11.000000</td>\n",
       "    </tr>\n",
       "    <tr>\n",
       "      <th>66%</th>\n",
       "      <td>1.367175e+06</td>\n",
       "      <td>5.000000</td>\n",
       "      <td>30.000000</td>\n",
       "    </tr>\n",
       "    <tr>\n",
       "      <th>99%</th>\n",
       "      <td>2.008361e+06</td>\n",
       "      <td>5.000000</td>\n",
       "      <td>365.000000</td>\n",
       "    </tr>\n",
       "    <tr>\n",
       "      <th>max</th>\n",
       "      <td>2.015429e+06</td>\n",
       "      <td>5.000000</td>\n",
       "      <td>365.000000</td>\n",
       "    </tr>\n",
       "  </tbody>\n",
       "</table>\n",
       "</div>"
      ],
      "text/plain": [
       "               user         mark   time_delta\n",
       "count  3.887000e+03  3887.000000  3887.000000\n",
       "mean   1.059401e+06     4.283869    66.390275\n",
       "std    6.066467e+05     1.000710   109.686501\n",
       "min    0.000000e+00     1.000000     0.000000\n",
       "33%    8.161394e+05     4.300000     4.000000\n",
       "50%    1.179244e+06     4.700000    11.000000\n",
       "66%    1.367175e+06     5.000000    30.000000\n",
       "99%    2.008361e+06     5.000000   365.000000\n",
       "max    2.015429e+06     5.000000   365.000000"
      ]
     },
     "execution_count": 46,
     "metadata": {},
     "output_type": "execute_result"
    }
   ],
   "source": [
    "data_list[2].describe(percentiles=[0.33,0.66,0.99])"
   ]
  },
  {
   "cell_type": "code",
   "execution_count": 47,
   "metadata": {},
   "outputs": [],
   "source": [
    "# Политика ранжирования оценок:\n",
    "# 5 - >4.9\n",
    "# 4 - 3.5<x<=4.8\n",
    "# 3 - x<=3.5\n"
   ]
  },
  {
   "cell_type": "code",
   "execution_count": 48,
   "metadata": {},
   "outputs": [],
   "source": [
    "def fit_ranges(x):\n",
    "    if x>4.9:\n",
    "        return 5\n",
    "    if x>3.5:\n",
    "        return 4\n",
    "    #if x>=3:\n",
    "        #return 3\n",
    "    return 3"
   ]
  },
  {
   "cell_type": "code",
   "execution_count": 49,
   "metadata": {},
   "outputs": [],
   "source": [
    "newdata=[]\n",
    "for data in data_list:\n",
    "    d=data.copy(deep=True)\n",
    "    d[\"mark\"]=data.mark.apply(lambda x: fit_ranges(x))\n",
    "    newdata.append(d)"
   ]
  },
  {
   "cell_type": "markdown",
   "metadata": {},
   "source": [
    "### После перехода к классификации:"
   ]
  },
  {
   "cell_type": "code",
   "execution_count": 50,
   "metadata": {},
   "outputs": [
    {
     "data": {
      "image/png": "[encoded data removed]",
      "text/plain": [
       "<Figure size 1152x864 with 4 Axes>"
      ]
     },
     "metadata": {},
     "output_type": "display_data"
    }
   ],
   "source": [
    "compare_stats(col_name='mark', titles=titles, data_list=newdata, nbins=10)"
   ]
  },
  {
   "cell_type": "code",
   "execution_count": 51,
   "metadata": {},
   "outputs": [],
   "source": [
    "for data in newdata:\n",
    "    data.drop(\"date\", axis=1, inplace=True)"
   ]
  },
  {
   "cell_type": "code",
   "execution_count": 52,
   "metadata": {},
   "outputs": [],
   "source": [
    "for i in range(0, len(newdata)):\n",
    "    data=newdata[i]\n",
    "    title=titles[i]\n",
    "    fname=title+\"reviews_cleaned.csv\"\n",
    "    data.to_csv(fname,header=data.columns,index=False)"
   ]
  },
  {
   "cell_type": "code",
   "execution_count": null,
   "metadata": {},
   "outputs": [],
   "source": []
  },
  {
   "cell_type": "code",
   "execution_count": null,
   "metadata": {},
   "outputs": [],
   "source": []
  }
 ],
 "metadata": {
  "kernelspec": {
   "display_name": "Python 3",
   "language": "python",
   "name": "python3"
  },
  "language_info": {
   "codemirror_mode": {
    "name": "ipython",
    "version": 3
   },
   "file_extension": ".py",
   "mimetype": "text/x-python",
   "name": "python",
   "nbconvert_exporter": "python",
   "pygments_lexer": "ipython3",
   "version": "3.7.6"
  }
 },
 "nbformat": 4,
 "nbformat_minor": 4
}
