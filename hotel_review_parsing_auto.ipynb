{
 "cells": [
  {
   "cell_type": "markdown",
   "metadata": {},
   "source": [
    "# Получение текстов отзывов по списку отелей (со ссылками), скачанному ранее\n",
    "\n",
    "### В отличие от названия, ссылка еще служит более надежным идентификатором отеля"
   ]
  },
  {
   "cell_type": "code",
   "execution_count": 1,
   "metadata": {},
   "outputs": [],
   "source": [
    "import requests\n",
    "import re\n",
    "from bs4 import BeautifulSoup\n",
    "import pandas as pd\n",
    "import time\n",
    "import sys\n",
    "import numpy as np\n",
    "from tqdm import tqdm\n",
    "from fake_useragent import UserAgent\n",
    "\n",
    "from IPython.display import clear_output"
   ]
  },
  {
   "cell_type": "code",
   "execution_count": 2,
   "metadata": {},
   "outputs": [],
   "source": [
    "import matplotlib.pyplot as plt"
   ]
  },
  {
   "cell_type": "markdown",
   "metadata": {},
   "source": [
    "## Интересующие данные: оценка, дата, текст, автор, время с момента посещения"
   ]
  },
  {
   "cell_type": "code",
   "execution_count": 3,
   "metadata": {},
   "outputs": [],
   "source": [
    "root_link='https://tophotels.ru'"
   ]
  },
  {
   "cell_type": "code",
   "execution_count": 4,
   "metadata": {},
   "outputs": [],
   "source": [
    "#main_link=\"https://tophotels.ru/hotels/1/20113\""
   ]
  },
  {
   "cell_type": "code",
   "execution_count": 5,
   "metadata": {},
   "outputs": [],
   "source": [
    "#if len(sys.argv)>1:\n",
    "    #fname=sys.argv[1]\n",
    "#else:\n",
    "    #fname=\"Crimea_hotel_stats_clean.csv\""
   ]
  },
  {
   "cell_type": "code",
   "execution_count": 6,
   "metadata": {},
   "outputs": [],
   "source": [
    "fname=\"Crimea_hotel_stats_clean.csv\" # running in Jupyter"
   ]
  },
  {
   "cell_type": "code",
   "execution_count": 7,
   "metadata": {},
   "outputs": [],
   "source": [
    "hotel_data=pd.read_csv(fname)"
   ]
  },
  {
   "cell_type": "code",
   "execution_count": 27,
   "metadata": {},
   "outputs": [
    {
     "data": {
      "text/html": [
       "<div>\n",
       "<style scoped>\n",
       "    .dataframe tbody tr th:only-of-type {\n",
       "        vertical-align: middle;\n",
       "    }\n",
       "\n",
       "    .dataframe tbody tr th {\n",
       "        vertical-align: top;\n",
       "    }\n",
       "\n",
       "    .dataframe thead th {\n",
       "        text-align: right;\n",
       "    }\n",
       "</style>\n",
       "<table border=\"1\" class=\"dataframe\">\n",
       "  <thead>\n",
       "    <tr style=\"text-align: right;\">\n",
       "      <th></th>\n",
       "      <th>title</th>\n",
       "      <th>area</th>\n",
       "      <th>rating</th>\n",
       "      <th>n_reviews</th>\n",
       "      <th>reference</th>\n",
       "    </tr>\n",
       "  </thead>\n",
       "  <tbody>\n",
       "    <tr>\n",
       "      <th>0</th>\n",
       "      <td>MRIYA RESORT &amp; SPA (МРИЯ РЕЗОРТ энд СПА) 5*</td>\n",
       "      <td>Россия, Крым, Ялта</td>\n",
       "      <td>4.79</td>\n",
       "      <td>589</td>\n",
       "      <td>https://tophotels.ru/hotel/al206891/reviews</td>\n",
       "    </tr>\n",
       "    <tr>\n",
       "      <th>1</th>\n",
       "      <td>Ялта-Интурист 4*</td>\n",
       "      <td>Россия, Крым, Ялта</td>\n",
       "      <td>3.90</td>\n",
       "      <td>756</td>\n",
       "      <td>https://tophotels.ru/hotel/al19733/reviews</td>\n",
       "    </tr>\n",
       "    <tr>\n",
       "      <th>2</th>\n",
       "      <td>Азовский</td>\n",
       "      <td>Россия, Крым, Керчь</td>\n",
       "      <td>4.41</td>\n",
       "      <td>399</td>\n",
       "      <td>https://tophotels.ru/hotel/al142744/reviews</td>\n",
       "    </tr>\n",
       "    <tr>\n",
       "      <th>3</th>\n",
       "      <td>Porto Mare 4*</td>\n",
       "      <td>Россия, Крым, Алушта</td>\n",
       "      <td>4.52</td>\n",
       "      <td>260</td>\n",
       "      <td>https://tophotels.ru/hotel/al19743/reviews</td>\n",
       "    </tr>\n",
       "    <tr>\n",
       "      <th>4</th>\n",
       "      <td>Нева</td>\n",
       "      <td>Россия, Крым, Алушта, Алушта-центр</td>\n",
       "      <td>4.51</td>\n",
       "      <td>245</td>\n",
       "      <td>https://tophotels.ru/hotel/al35508/reviews</td>\n",
       "    </tr>\n",
       "    <tr>\n",
       "      <th>5</th>\n",
       "      <td>Империя</td>\n",
       "      <td>Россия, Крым, Евпатория, Евпатория-центр</td>\n",
       "      <td>4.73</td>\n",
       "      <td>216</td>\n",
       "      <td>https://tophotels.ru/hotel/al62766/reviews</td>\n",
       "    </tr>\n",
       "    <tr>\n",
       "      <th>6</th>\n",
       "      <td>Aquamarine Resort &amp; SPA 5*</td>\n",
       "      <td>Россия, Крым, Севастополь, Севастополь-центр</td>\n",
       "      <td>4.72</td>\n",
       "      <td>218</td>\n",
       "      <td>https://tophotels.ru/hotel/al64527/reviews</td>\n",
       "    </tr>\n",
       "    <tr>\n",
       "      <th>7</th>\n",
       "      <td>Парк-отель Марат</td>\n",
       "      <td>Россия, Крым, Гаспра</td>\n",
       "      <td>3.57</td>\n",
       "      <td>266</td>\n",
       "      <td>https://tophotels.ru/hotel/al35596/reviews</td>\n",
       "    </tr>\n",
       "    <tr>\n",
       "      <th>8</th>\n",
       "      <td>Таврия</td>\n",
       "      <td>Россия, Крым, Евпатория, Евпатория-центр</td>\n",
       "      <td>4.34</td>\n",
       "      <td>211</td>\n",
       "      <td>https://tophotels.ru/hotel/al36556/reviews</td>\n",
       "    </tr>\n",
       "    <tr>\n",
       "      <th>9</th>\n",
       "      <td>GOLDEN RESORT (Голден Резорт) 3*</td>\n",
       "      <td>Россия, Крым, Алушта</td>\n",
       "      <td>4.61</td>\n",
       "      <td>199</td>\n",
       "      <td>https://tophotels.ru/hotel/al19774/reviews</td>\n",
       "    </tr>\n",
       "  </tbody>\n",
       "</table>\n",
       "</div>"
      ],
      "text/plain": [
       "                                         title  \\\n",
       "0  MRIYA RESORT & SPA (МРИЯ РЕЗОРТ энд СПА) 5*   \n",
       "1                             Ялта-Интурист 4*   \n",
       "2                                     Азовский   \n",
       "3                                Porto Mare 4*   \n",
       "4                                         Нева   \n",
       "5                                      Империя   \n",
       "6                   Aquamarine Resort & SPA 5*   \n",
       "7                             Парк-отель Марат   \n",
       "8                                       Таврия   \n",
       "9             GOLDEN RESORT (Голден Резорт) 3*   \n",
       "\n",
       "                                           area  rating  n_reviews  \\\n",
       "0                            Россия, Крым, Ялта    4.79        589   \n",
       "1                            Россия, Крым, Ялта    3.90        756   \n",
       "2                           Россия, Крым, Керчь    4.41        399   \n",
       "3                          Россия, Крым, Алушта    4.52        260   \n",
       "4            Россия, Крым, Алушта, Алушта-центр    4.51        245   \n",
       "5      Россия, Крым, Евпатория, Евпатория-центр    4.73        216   \n",
       "6  Россия, Крым, Севастополь, Севастополь-центр    4.72        218   \n",
       "7                          Россия, Крым, Гаспра    3.57        266   \n",
       "8      Россия, Крым, Евпатория, Евпатория-центр    4.34        211   \n",
       "9                          Россия, Крым, Алушта    4.61        199   \n",
       "\n",
       "                                     reference  \n",
       "0  https://tophotels.ru/hotel/al206891/reviews  \n",
       "1   https://tophotels.ru/hotel/al19733/reviews  \n",
       "2  https://tophotels.ru/hotel/al142744/reviews  \n",
       "3   https://tophotels.ru/hotel/al19743/reviews  \n",
       "4   https://tophotels.ru/hotel/al35508/reviews  \n",
       "5   https://tophotels.ru/hotel/al62766/reviews  \n",
       "6   https://tophotels.ru/hotel/al64527/reviews  \n",
       "7   https://tophotels.ru/hotel/al35596/reviews  \n",
       "8   https://tophotels.ru/hotel/al36556/reviews  \n",
       "9   https://tophotels.ru/hotel/al19774/reviews  "
      ]
     },
     "execution_count": 27,
     "metadata": {},
     "output_type": "execute_result"
    }
   ],
   "source": [
    "hotel_data.head(10)"
   ]
  },
  {
   "cell_type": "markdown",
   "metadata": {},
   "source": [
    "**Крым очень большой** (а выкачивание отзывов совпало с пиком туристического сезона), **поэтому для анализа отзывов ограничимся Южным Берегом Крыма (ЮБК), в который включим Ялту, Алушту и Алупку**.\n",
    "\n",
    "(При этом общая статистика без текстов есть и для всего Крыма)"
   ]
  },
  {
   "cell_type": "code",
   "execution_count": 70,
   "metadata": {},
   "outputs": [],
   "source": [
    "def UBK(x):\n",
    "    return \"Алушта\" in x or \"Ялта\" in x or \"Алупка\" in x\n",
    "def Sebastopol(x):\n",
    "    return \"Севастополь\" in x\n",
    "def Evpatoriya(x):\n",
    "    return \"Евпатория\" in x\n",
    "def Sudak(x):\n",
    "    return \"Судак\" in x"
   ]
  },
  {
   "cell_type": "code",
   "execution_count": 71,
   "metadata": {},
   "outputs": [],
   "source": [
    "UBK=hotel_data.iloc[3:,:].loc[hotel_data.area.apply(lambda x: UBK(x)),:]"
   ]
  },
  {
   "cell_type": "code",
   "execution_count": 73,
   "metadata": {},
   "outputs": [
    {
     "data": {
      "text/html": [
       "<div>\n",
       "<style scoped>\n",
       "    .dataframe tbody tr th:only-of-type {\n",
       "        vertical-align: middle;\n",
       "    }\n",
       "\n",
       "    .dataframe tbody tr th {\n",
       "        vertical-align: top;\n",
       "    }\n",
       "\n",
       "    .dataframe thead th {\n",
       "        text-align: right;\n",
       "    }\n",
       "</style>\n",
       "<table border=\"1\" class=\"dataframe\">\n",
       "  <thead>\n",
       "    <tr style=\"text-align: right;\">\n",
       "      <th></th>\n",
       "      <th>title</th>\n",
       "      <th>area</th>\n",
       "      <th>rating</th>\n",
       "      <th>n_reviews</th>\n",
       "      <th>reference</th>\n",
       "    </tr>\n",
       "  </thead>\n",
       "  <tbody>\n",
       "    <tr>\n",
       "      <th>3</th>\n",
       "      <td>Porto Mare 4*</td>\n",
       "      <td>Россия, Крым, Алушта</td>\n",
       "      <td>4.52</td>\n",
       "      <td>260</td>\n",
       "      <td>https://tophotels.ru/hotel/al19743/reviews</td>\n",
       "    </tr>\n",
       "    <tr>\n",
       "      <th>4</th>\n",
       "      <td>Нева</td>\n",
       "      <td>Россия, Крым, Алушта, Алушта-центр</td>\n",
       "      <td>4.51</td>\n",
       "      <td>245</td>\n",
       "      <td>https://tophotels.ru/hotel/al35508/reviews</td>\n",
       "    </tr>\n",
       "    <tr>\n",
       "      <th>9</th>\n",
       "      <td>GOLDEN RESORT (Голден Резорт) 3*</td>\n",
       "      <td>Россия, Крым, Алушта</td>\n",
       "      <td>4.61</td>\n",
       "      <td>199</td>\n",
       "      <td>https://tophotels.ru/hotel/al19774/reviews</td>\n",
       "    </tr>\n",
       "    <tr>\n",
       "      <th>10</th>\n",
       "      <td>Ялта-Круглый Год 3*</td>\n",
       "      <td>Россия, Крым, Ялта, Ялта-центр</td>\n",
       "      <td>4.58</td>\n",
       "      <td>175</td>\n",
       "      <td>https://tophotels.ru/hotel/al102106/reviews</td>\n",
       "    </tr>\n",
       "    <tr>\n",
       "      <th>18</th>\n",
       "      <td>Санаторий Кирова</td>\n",
       "      <td>Россия, Крым, Ялта, Ялта-центр</td>\n",
       "      <td>3.94</td>\n",
       "      <td>129</td>\n",
       "      <td>https://tophotels.ru/hotel/al19754/reviews</td>\n",
       "    </tr>\n",
       "  </tbody>\n",
       "</table>\n",
       "</div>"
      ],
      "text/plain": [
       "                               title                                area  \\\n",
       "3                      Porto Mare 4*                Россия, Крым, Алушта   \n",
       "4                               Нева  Россия, Крым, Алушта, Алушта-центр   \n",
       "9   GOLDEN RESORT (Голден Резорт) 3*                Россия, Крым, Алушта   \n",
       "10               Ялта-Круглый Год 3*      Россия, Крым, Ялта, Ялта-центр   \n",
       "18                  Санаторий Кирова      Россия, Крым, Ялта, Ялта-центр   \n",
       "\n",
       "    rating  n_reviews                                    reference  \n",
       "3     4.52        260   https://tophotels.ru/hotel/al19743/reviews  \n",
       "4     4.51        245   https://tophotels.ru/hotel/al35508/reviews  \n",
       "9     4.61        199   https://tophotels.ru/hotel/al19774/reviews  \n",
       "10    4.58        175  https://tophotels.ru/hotel/al102106/reviews  \n",
       "18    3.94        129   https://tophotels.ru/hotel/al19754/reviews  "
      ]
     },
     "execution_count": 73,
     "metadata": {},
     "output_type": "execute_result"
    }
   ],
   "source": [
    "UBK.head()"
   ]
  },
  {
   "cell_type": "code",
   "execution_count": 60,
   "metadata": {},
   "outputs": [],
   "source": [
    "Seb=hotel_data.iloc[3:,:].loc[hotel_data.area.apply(lambda x: Sebastopol(x)),:]\n",
    "Evp=hotel_data.iloc[3:,:].loc[hotel_data.area.apply(lambda x: Evpatoriya(x)),:]\n",
    "Sud=hotel_data.iloc[3:,:].loc[hotel_data.area.apply(lambda x: Sudak(x)),:]"
   ]
  },
  {
   "cell_type": "markdown",
   "metadata": {},
   "source": [
    "### Немного статистики по районам Крыма:"
   ]
  },
  {
   "cell_type": "code",
   "execution_count": 72,
   "metadata": {},
   "outputs": [
    {
     "name": "stdout",
     "output_type": "stream",
     "text": [
      "ЮБК:\n",
      " Hotels:  322 \n",
      " Reviews:  4252 \n",
      "\n",
      "Севастополь:\n",
      " Hotels:  121 \n",
      " Reviews:  960 \n",
      "\n",
      "Евпатория:\n",
      " Hotels:  151 \n",
      " Reviews:  2003 \n",
      "\n",
      "Судак:\n",
      " Hotels:  96 \n",
      " Reviews:  603 \n",
      "\n"
     ]
    }
   ],
   "source": [
    "print('ЮБК:\\n', 'Hotels: ', len(UBK), '\\n', 'Reviews: ', UBK.n_reviews.sum(), '\\n')\n",
    "print('Севастополь:\\n', 'Hotels: ', len(Seb), '\\n', 'Reviews: ', Seb.n_reviews.sum(), '\\n')\n",
    "print('Евпатория:\\n', 'Hotels: ', len(Evp), '\\n', 'Reviews: ', Evp.n_reviews.sum(), '\\n')\n",
    "print('Судак:\\n', 'Hotels: ', len(Sud), '\\n', 'Reviews: ', Sud.n_reviews.sum(), '\\n')"
   ]
  },
  {
   "cell_type": "code",
   "execution_count": 11,
   "metadata": {},
   "outputs": [
    {
     "data": {
      "text/plain": [
       "1239"
      ]
     },
     "execution_count": 11,
     "metadata": {},
     "output_type": "execute_result"
    }
   ],
   "source": [
    "len(hotel_data)"
   ]
  },
  {
   "cell_type": "code",
   "execution_count": 10,
   "metadata": {},
   "outputs": [
    {
     "data": {
      "text/plain": [
       "14650"
      ]
     },
     "execution_count": 10,
     "metadata": {},
     "output_type": "execute_result"
    }
   ],
   "source": [
    "hotel_data.n_reviews.sum()"
   ]
  },
  {
   "cell_type": "code",
   "execution_count": 62,
   "metadata": {},
   "outputs": [],
   "source": [
    "def page_link(page, link):\n",
    "    return link+'?page='+str(page)"
   ]
  },
  {
   "cell_type": "code",
   "execution_count": 63,
   "metadata": {},
   "outputs": [],
   "source": [
    "def get_reviews(link): # отзывы по ссылке, относящейся к конкретному отелю\n",
    "    response = requests.get(link, headers={'User-Agent': UserAgent().chrome})\n",
    "    soup = BeautifulSoup(response.content, \"html.parser\")\n",
    "    all_rev=soup.find(\"div\",attrs={'class':'reviews-list'})\n",
    "    reviews=all_rev.findAll(\"div\",attrs={'class':'tape-rev__item'}) # !!!\n",
    "    return None if not reviews else reviews"
   ]
  },
  {
   "cell_type": "code",
   "execution_count": 64,
   "metadata": {},
   "outputs": [],
   "source": [
    "def get_uid(rev): # user id\n",
    "    user_id=rev['data-userid']\n",
    "    return None if not user_id else user_id"
   ]
  },
  {
   "cell_type": "code",
   "execution_count": 65,
   "metadata": {},
   "outputs": [],
   "source": [
    "def get_text(rev): # текст отзыва\n",
    "    data_id=rev['data-id']\n",
    "    if not data_id:\n",
    "        return None\n",
    "    if data_id==0:\n",
    "        block=rev.find('p', attrs={'class':'bth__cnt mb10'})\n",
    "        return None if not block else block.text.strip()\n",
    "    else:\n",
    "        data_link=\"https://tophotels.ru/viewrate/?id=\"+data_id+\"#viewrate\"\n",
    "        full_review=requests.get(data_link, headers={'User-Agent': UserAgent().chrome})# https://tophotels.ru/viewrate/?id=<data-id>#viewrate\n",
    "        time.sleep(2)\n",
    "        review_soup = BeautifulSoup(full_review.content, \"html.parser\")\n",
    "        block=review_soup.find(\"p\", attrs={'class':'bth__cnt bth__cnt--big'})\n",
    "        return None if not block else block.text.strip()"
   ]
  },
  {
   "cell_type": "raw",
   "metadata": {},
   "source": []
  },
  {
   "cell_type": "code",
   "execution_count": 66,
   "metadata": {},
   "outputs": [],
   "source": [
    "def get_mark(rev): # оценка, выставленная в отзыве\n",
    "    r=rev.find('p', attrs={'class':'bth__cnt mark__cnt'})\n",
    "    return None if not r else r.text.strip()"
   ]
  },
  {
   "cell_type": "code",
   "execution_count": 67,
   "metadata": {},
   "outputs": [],
   "source": [
    "def get_datetime(rev): # дата и время, когда был оставлен отзыв, а также интервал времени, прошедший с момента посещения\n",
    "    info=rev.find('div', attrs={'class':'hint-block'})\n",
    "    if not info:\n",
    "        return None, None\n",
    "    dt=info.find('p', attrs={'class':'bth__cnt'})\n",
    "    date_time=None if not dt else dt.text.strip()\n",
    "    delta=info.find('div', attrs={'class':'hint hint--big rate-hint'})\n",
    "    time_delta=None if not delta else delta.text.strip()\n",
    "    return date_time, time_delta"
   ]
  },
  {
   "cell_type": "code",
   "execution_count": 68,
   "metadata": {},
   "outputs": [],
   "source": [
    "def get_rev_line(rev,reference):\n",
    "    uid=get_uid(rev)\n",
    "    mark=get_mark(rev)\n",
    "    date, timedelta=get_datetime(rev)\n",
    "    text=get_text(rev)\n",
    "    return {'reference':reference,'user':uid,'mark':mark,'date':date,'time_delta':timedelta,'text':text}"
   ]
  },
  {
   "cell_type": "code",
   "execution_count": 69,
   "metadata": {},
   "outputs": [],
   "source": [
    "col_names=['reference','user','mark','date','time_delta','text']"
   ]
  },
  {
   "cell_type": "code",
   "execution_count": 74,
   "metadata": {},
   "outputs": [],
   "source": [
    "data_reviews=pd.DataFrame(columns=col_names)"
   ]
  },
  {
   "cell_type": "code",
   "execution_count": 75,
   "metadata": {},
   "outputs": [
    {
     "data": {
      "text/html": [
       "<div>\n",
       "<style scoped>\n",
       "    .dataframe tbody tr th:only-of-type {\n",
       "        vertical-align: middle;\n",
       "    }\n",
       "\n",
       "    .dataframe tbody tr th {\n",
       "        vertical-align: top;\n",
       "    }\n",
       "\n",
       "    .dataframe thead th {\n",
       "        text-align: right;\n",
       "    }\n",
       "</style>\n",
       "<table border=\"1\" class=\"dataframe\">\n",
       "  <thead>\n",
       "    <tr style=\"text-align: right;\">\n",
       "      <th></th>\n",
       "      <th>reference</th>\n",
       "      <th>user</th>\n",
       "      <th>mark</th>\n",
       "      <th>date</th>\n",
       "      <th>time_delta</th>\n",
       "      <th>text</th>\n",
       "    </tr>\n",
       "  </thead>\n",
       "  <tbody>\n",
       "  </tbody>\n",
       "</table>\n",
       "</div>"
      ],
      "text/plain": [
       "Empty DataFrame\n",
       "Columns: [reference, user, mark, date, time_delta, text]\n",
       "Index: []"
      ]
     },
     "execution_count": 75,
     "metadata": {},
     "output_type": "execute_result"
    }
   ],
   "source": [
    "#data_reviews=pd.read_csv(\"Crimea_reviews_raw_hotel3.csv\")\n",
    "data_reviews.head()"
   ]
  },
  {
   "cell_type": "code",
   "execution_count": 76,
   "metadata": {},
   "outputs": [
    {
     "name": "stderr",
     "output_type": "stream",
     "text": [
      "\n",
      "\n",
      "\n",
      "\n",
      "\n",
      "\n",
      "\n",
      "\n",
      "\n",
      "\n",
      "\n",
      "\n",
      "100%|██████████████████████████████████████████████████████████████████████████████| 321/321 [3:59:05<00:00,  6.73s/it]\u001b[A\u001b[A\u001b[A\u001b[A\u001b[A\u001b[A\u001b[A\u001b[A\u001b[A\u001b[A\u001b[A\u001b[A\n",
      "\n",
      "\n",
      "\n",
      "\n",
      "\n",
      "\n",
      "\n",
      "\n",
      "\n",
      "\n",
      "\n",
      "                                                                                                                       \u001b[A\u001b[A\u001b[A\u001b[A\u001b[A\u001b[A\u001b[A\u001b[A\u001b[A\u001b[A\u001b[A\u001b[A"
     ]
    }
   ],
   "source": [
    "clear_output()\n",
    "t1=tqdm(UBK.index[1:],leave=False)\n",
    "cnt=0\n",
    "for rec_number in t1:\n",
    "    n_rev=UBK.at[rec_number,'n_reviews']\n",
    "    ref=UBK.at[rec_number,'reference']\n",
    "    first_page=1\n",
    "    last_page=int(np.ceil(n_rev/25))\n",
    "    tq1=tqdm(range(first_page,last_page+1), leave=False)\n",
    "    for i in tq1:\n",
    "        reviews = get_reviews(page_link(i,ref))\n",
    "        time.sleep(2)\n",
    "        tq2=tqdm(reviews, leave=False)\n",
    "        for rev in tq2:\n",
    "            data_reviews=data_reviews.append(get_rev_line(rev,ref),ignore_index=True)\n",
    "            cnt+=1\n",
    "            if cnt%800==0:\n",
    "                outp_fname=\"data_reviews_raw\"+str(cnt)+\".csv\"\n",
    "                data_reviews.to_csv(outp_fname,header=data_reviews.columns,index=False)\n",
    "                data_reviews=pd.DataFrame(columns=col_names)\n",
    "            clear_output()\n",
    "        tq2.close()\n",
    "        clear_output()\n",
    "    tq1.close()\n",
    "    clear_output()"
   ]
  },
  {
   "cell_type": "markdown",
   "metadata": {},
   "source": [
    "## Сохраняем полученные данные в сыром виде"
   ]
  },
  {
   "cell_type": "code",
   "execution_count": 77,
   "metadata": {},
   "outputs": [],
   "source": [
    "data_reviews.to_csv(\"UBK_reviews_raw_last.csv\",header=data_reviews.columns,index=False)\n",
    "#data_reviews.head()"
   ]
  },
  {
   "cell_type": "code",
   "execution_count": 78,
   "metadata": {},
   "outputs": [
    {
     "data": {
      "text/plain": [
       "619"
      ]
     },
     "execution_count": 78,
     "metadata": {},
     "output_type": "execute_result"
    }
   ],
   "source": [
    "len(data_reviews)"
   ]
  },
  {
   "cell_type": "code",
   "execution_count": 79,
   "metadata": {},
   "outputs": [
    {
     "data": {
      "text/plain": [
       "4619"
      ]
     },
     "execution_count": 79,
     "metadata": {},
     "output_type": "execute_result"
    }
   ],
   "source": [
    "cnt"
   ]
  },
  {
   "cell_type": "code",
   "execution_count": null,
   "metadata": {},
   "outputs": [],
   "source": []
  }
 ],
 "metadata": {
  "kernelspec": {
   "display_name": "Python 3",
   "language": "python",
   "name": "python3"
  },
  "language_info": {
   "codemirror_mode": {
    "name": "ipython",
    "version": 3
   },
   "file_extension": ".py",
   "mimetype": "text/x-python",
   "name": "python",
   "nbconvert_exporter": "python",
   "pygments_lexer": "ipython3",
   "version": "3.7.6"
  }
 },
 "nbformat": 4,
 "nbformat_minor": 4
}
