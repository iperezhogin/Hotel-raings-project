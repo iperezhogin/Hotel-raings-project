{
 "cells": [
  {
   "cell_type": "markdown",
   "metadata": {},
   "source": [
    "# Парсинг основных данных по отелям с сайта tophotels.ru"
   ]
  },
  {
   "cell_type": "code",
   "execution_count": null,
   "metadata": {},
   "outputs": [],
   "source": []
  },
  {
   "cell_type": "code",
   "execution_count": 3,
   "metadata": {},
   "outputs": [],
   "source": [
    "import requests\n",
    "import re\n",
    "from bs4 import BeautifulSoup\n",
    "import pandas as pd\n",
    "import time\n",
    "import sys\n",
    "from IPython.display import clear_output\n",
    "from tqdm import tqdm\n",
    "from fake_useragent import UserAgent"
   ]
  },
  {
   "cell_type": "code",
   "execution_count": 4,
   "metadata": {},
   "outputs": [],
   "source": [
    "import numpy as np"
   ]
  },
  {
   "cell_type": "code",
   "execution_count": 5,
   "metadata": {},
   "outputs": [],
   "source": [
    "import matplotlib.pyplot as plt"
   ]
  },
  {
   "cell_type": "markdown",
   "metadata": {},
   "source": [
    "## Сначала достаем список отелей в заданной местности. В работе ограничимся Санкт-Петербургом, Крымом и Сочи (два черноморских курорта и северный город)\n",
    "\n",
    "### Интересующие данные: название, район, рейтинг, кол-во отзывов, ссылка на подробное описание"
   ]
  },
  {
   "cell_type": "code",
   "execution_count": 6,
   "metadata": {},
   "outputs": [],
   "source": [
    "root_link='https://tophotels.ru'"
   ]
  },
  {
   "cell_type": "code",
   "execution_count": null,
   "metadata": {},
   "outputs": [],
   "source": []
  },
  {
   "cell_type": "markdown",
   "metadata": {},
   "source": [
    "## Следующая сслыка задана уже с учетом региона, по которому парсим отели"
   ]
  },
  {
   "cell_type": "code",
   "execution_count": 8,
   "metadata": {},
   "outputs": [],
   "source": [
    "#if len(sys.argv)>1: # задел для запуска из командной строки; корректная работа не гарантирована\n",
    "    #main_link=sys.argv[1]\n",
    "#else:\n",
    "    #main_link=\"https://tophotels.ru/hotels/1/669\"\n",
    "main_link=\"https://tophotels.ru/hotels/1/669\" # Санкт-Петербург"
   ]
  },
  {
   "cell_type": "code",
   "execution_count": 9,
   "metadata": {},
   "outputs": [],
   "source": [
    "#hotel_number=get_hotel_number()\n",
    "#print(\"Hotels total: \", hotel_number)\n",
    "hotel_number=1702"
   ]
  },
  {
   "cell_type": "code",
   "execution_count": 25,
   "metadata": {},
   "outputs": [
    {
     "data": {
      "text/plain": [
       "35"
      ]
     },
     "execution_count": 25,
     "metadata": {},
     "output_type": "execute_result"
    }
   ],
   "source": [
    "first_page=1\n",
    "last_page=int(np.ceil(hotel_number/50))\n",
    "last_page\n",
    "#print(\"Pages total: \", last_page)"
   ]
  },
  {
   "cell_type": "code",
   "execution_count": 11,
   "metadata": {},
   "outputs": [],
   "source": [
    "def page_link(page, link=main_link): # ссылка на страницу соответствующей выдачи поиска\n",
    "    return link+'?page='+str(page)"
   ]
  },
  {
   "cell_type": "code",
   "execution_count": 12,
   "metadata": {},
   "outputs": [],
   "source": [
    "def get_hotels(link): # для удобства - лист из html-контентов на странице, которые, собственно, уже содержат\n",
    "    response = requests.get(link, headers={'User-Agent': UserAgent().msie}) # остальные данные\n",
    "    soup = BeautifulSoup(response.content, \"html.parser\")\n",
    "    hotels=soup.findAll(\"div\", attrs={'class':'catalogs-item'})\n",
    "    return None if not hotels else hotels"
   ]
  },
  {
   "cell_type": "code",
   "execution_count": 13,
   "metadata": {},
   "outputs": [],
   "source": [
    "def get_score(hotel): # рейтинг отеля\n",
    "    score=hotel.find(\"span\", attrs={'class':'page-ttls-hotel-rating'})\n",
    "    return None if not score else score.text.strip()"
   ]
  },
  {
   "cell_type": "code",
   "execution_count": 14,
   "metadata": {},
   "outputs": [],
   "source": [
    "def get_area(hotel): # район, где расположен отель\n",
    "    area=hotel.find(\"a\", attrs={'class':'catalogs-gray'})\n",
    "    return None if not area else area.text.strip()"
   ]
  },
  {
   "cell_type": "code",
   "execution_count": 15,
   "metadata": {},
   "outputs": [],
   "source": [
    "def get_title(hotel): # название отеля (может быть неуникально!)\n",
    "    title=hotel.find('a', attrs={'class':'catalogs-ttl-a'})\n",
    "    return None if not title else title.text.strip()"
   ]
  },
  {
   "cell_type": "code",
   "execution_count": 16,
   "metadata": {},
   "outputs": [],
   "source": [
    "def get_ref(hotel, r_link=root_link): # ссылка на подробное описание отеля и тексты отзывов, уникальна для каждого отеля\n",
    "    rev=hotel.findAll('a', attrs={'class':'catalogs-per-a'})\n",
    "    if len(rev)==0:\n",
    "        return None\n",
    "    if len(rev)==1:\n",
    "        ref=r_link+rev[0]['href']\n",
    "    else:\n",
    "        ref=r_link+rev[1]['href']\n",
    "    return ref"
   ]
  },
  {
   "cell_type": "code",
   "execution_count": 17,
   "metadata": {},
   "outputs": [],
   "source": [
    "def get_nreviews(hotel): # число отзывов для каждого отеля\n",
    "    rev=hotel.findAll('a', attrs={'class':'catalogs-per-a'})\n",
    "    if len(rev)==0: # как потом выяснилось, не всегда точно совпадает\n",
    "        return None #  с реальным числом отзывов (но близко) - реальное число отзывов может быть больше.\n",
    "    if len(rev)==1:\n",
    "        n=rev[0].text.strip()\n",
    "    else:\n",
    "        n=rev[1].text.strip()\n",
    "    return n"
   ]
  },
  {
   "cell_type": "code",
   "execution_count": 18,
   "metadata": {},
   "outputs": [],
   "source": [
    "def get_line(hotel): # делаем словарик из данных, упомянутых выше, чтоб добавить потом в общий датафрейм\n",
    "    title=get_title(hotel)\n",
    "    area=get_area(hotel)\n",
    "    score=get_score(hotel)\n",
    "    nrev=get_nreviews(hotel)\n",
    "    ref=get_ref(hotel)\n",
    "    return {'title':title,'area':area,'rating':score,'n_reviews':nrev,'reference':ref}"
   ]
  },
  {
   "cell_type": "code",
   "execution_count": 26,
   "metadata": {},
   "outputs": [],
   "source": [
    "col_names=['title','area','rating','n_reviews','reference']"
   ]
  },
  {
   "cell_type": "code",
   "execution_count": 27,
   "metadata": {},
   "outputs": [],
   "source": [
    "df=pd.DataFrame(columns=col_names)"
   ]
  },
  {
   "cell_type": "code",
   "execution_count": 28,
   "metadata": {},
   "outputs": [],
   "source": [
    "t1=tqdm(range(first_page,last_page+1), leave=False) # добываем данные в цикле и формируем датафрейм\n",
    "for i in t1:\n",
    "    hotels = get_hotels(page_link(i))\n",
    "    time.sleep(0.3)\n",
    "    t2=tqdm(hotels, leave=False)\n",
    "    for hotel in t2:\n",
    "        df=df.append(get_line(hotel),ignore_index=True)\n",
    "    t2.close()\n",
    "    clear_output()\n",
    "t1.close()\n",
    "clear_output()"
   ]
  },
  {
   "cell_type": "code",
   "execution_count": 29,
   "metadata": {},
   "outputs": [
    {
     "data": {
      "text/plain": [
       "1702"
      ]
     },
     "execution_count": 29,
     "metadata": {},
     "output_type": "execute_result"
    }
   ],
   "source": [
    "len(df)"
   ]
  },
  {
   "cell_type": "code",
   "execution_count": 30,
   "metadata": {},
   "outputs": [
    {
     "data": {
      "text/plain": [
       "title          0\n",
       "area           0\n",
       "rating       957\n",
       "n_reviews    109\n",
       "reference    109\n",
       "dtype: int64"
      ]
     },
     "execution_count": 30,
     "metadata": {},
     "output_type": "execute_result"
    }
   ],
   "source": [
    "df.isna().sum()"
   ]
  },
  {
   "cell_type": "markdown",
   "metadata": {},
   "source": [
    "## Итак, всего 1702 отеля, у примерно половины из которых нет рейтинга"
   ]
  },
  {
   "cell_type": "code",
   "execution_count": 31,
   "metadata": {},
   "outputs": [],
   "source": [
    "df.to_csv(\"data_raw.csv\",header=df.columns,index=False)"
   ]
  },
  {
   "cell_type": "markdown",
   "metadata": {},
   "source": [
    "### Сохраняем в сыром виде, затем небольшая предварительная чистка"
   ]
  },
  {
   "cell_type": "code",
   "execution_count": 32,
   "metadata": {},
   "outputs": [],
   "source": [
    "df.rating=df.rating.astype('float')"
   ]
  },
  {
   "cell_type": "code",
   "execution_count": 33,
   "metadata": {},
   "outputs": [],
   "source": [
    "#plt.hist(Crimea.rating.dropna())"
   ]
  },
  {
   "cell_type": "code",
   "execution_count": 34,
   "metadata": {},
   "outputs": [],
   "source": [
    "df.dropna(axis=0,subset=['n_reviews'],inplace=True)"
   ]
  },
  {
   "cell_type": "code",
   "execution_count": 35,
   "metadata": {},
   "outputs": [],
   "source": [
    "#Crimea.head()"
   ]
  },
  {
   "cell_type": "code",
   "execution_count": 36,
   "metadata": {},
   "outputs": [],
   "source": [
    "#a=Crimea.loc[Crimea.n_reviews.apply(lambda x: x[1:4])=='ото',\"n_reviews\"]"
   ]
  },
  {
   "cell_type": "code",
   "execution_count": 37,
   "metadata": {},
   "outputs": [],
   "source": [
    "#a.head()"
   ]
  },
  {
   "cell_type": "code",
   "execution_count": 38,
   "metadata": {},
   "outputs": [],
   "source": [
    "df.loc[df.n_reviews.apply(lambda x: x[1:4])=='ото',\"n_reviews\"]=\"Отзывы - 0\""
   ]
  },
  {
   "cell_type": "code",
   "execution_count": 39,
   "metadata": {},
   "outputs": [],
   "source": [
    "df.to_csv(\"data_raw_stage2.csv\",header=df.columns,index=False)"
   ]
  },
  {
   "cell_type": "code",
   "execution_count": 40,
   "metadata": {},
   "outputs": [],
   "source": [
    "df.n_reviews=df.n_reviews.apply(lambda x: x[9:].strip()).astype(\"int32\")"
   ]
  },
  {
   "cell_type": "code",
   "execution_count": 41,
   "metadata": {},
   "outputs": [],
   "source": [
    "#Crimea.describe(percentiles=[0.01,0.05,0.25,0.5,0.75,0.9,0.99])"
   ]
  },
  {
   "cell_type": "code",
   "execution_count": 42,
   "metadata": {},
   "outputs": [],
   "source": [
    "df.to_csv(\"data_raw_stage3.csv\",header=df.columns,index=False)"
   ]
  },
  {
   "cell_type": "code",
   "execution_count": 43,
   "metadata": {},
   "outputs": [],
   "source": [
    "index_to_drop=df.loc[df[\"n_reviews\"]==0,:].index"
   ]
  },
  {
   "cell_type": "code",
   "execution_count": 44,
   "metadata": {},
   "outputs": [],
   "source": [
    "df.drop(index=index_to_drop, axis=0, inplace=True)"
   ]
  },
  {
   "cell_type": "code",
   "execution_count": 47,
   "metadata": {},
   "outputs": [
    {
     "data": {
      "text/plain": [
       "893"
      ]
     },
     "execution_count": 47,
     "metadata": {},
     "output_type": "execute_result"
    }
   ],
   "source": [
    "len(df)"
   ]
  },
  {
   "cell_type": "code",
   "execution_count": 48,
   "metadata": {},
   "outputs": [],
   "source": [
    "df.rating.fillna(0,inplace=True)"
   ]
  },
  {
   "cell_type": "code",
   "execution_count": 49,
   "metadata": {},
   "outputs": [],
   "source": [
    "#Crimea.describe(percentiles=[0.01,0.05,0.25,0.5,0.75,0.9,0.99])"
   ]
  },
  {
   "cell_type": "markdown",
   "metadata": {},
   "source": [
    "### Сохраняем очищенные данные"
   ]
  },
  {
   "cell_type": "code",
   "execution_count": 50,
   "metadata": {},
   "outputs": [],
   "source": [
    "df.to_csv(\"hotel_stats_clean.csv\",header=df.columns,index=False)"
   ]
  },
  {
   "cell_type": "code",
   "execution_count": null,
   "metadata": {},
   "outputs": [],
   "source": []
  }
 ],
 "metadata": {
  "kernelspec": {
   "display_name": "Python 3",
   "language": "python",
   "name": "python3"
  },
  "language_info": {
   "codemirror_mode": {
    "name": "ipython",
    "version": 3
   },
   "file_extension": ".py",
   "mimetype": "text/x-python",
   "name": "python",
   "nbconvert_exporter": "python",
   "pygments_lexer": "ipython3",
   "version": "3.7.6"
  }
 },
 "nbformat": 4,
 "nbformat_minor": 4
}
